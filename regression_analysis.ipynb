{
 "cells": [
  {
   "cell_type": "code",
   "execution_count": 384,
   "metadata": {},
   "outputs": [],
   "source": [
    "import pandas as pd\n",
    "import numpy as np\n",
    "from sklearn.linear_model import LogisticRegression\n",
    "import math\n",
    "import matplotlib.pyplot as plt"
   ]
  },
  {
   "cell_type": "code",
   "execution_count": 385,
   "metadata": {},
   "outputs": [
    {
     "data": {
      "text/plain": [
       "Index(['Year', 'Player', 'Pos', 'Age', 'Tm', 'G', 'MP', 'PER', 'TS%', '3PAr',\n",
       "       'FTr', 'ORB%', 'DRB%', 'AST%', 'STL%', 'BLK%', 'TOV%', 'USG%', 'OWS',\n",
       "       'DWS', 'WS', 'WS/48', 'OBPM', 'DBPM', '3P%', '2P%', 'FT%', 'TmNetRtg'],\n",
       "      dtype='object')"
      ]
     },
     "execution_count": 385,
     "metadata": {},
     "output_type": "execute_result"
    }
   ],
   "source": [
    "df = pd.read_csv('./compiled.csv')\n",
    "# df = df.dropna()\n",
    "#df = df.drop(columns=['Unnamed: 0']).dropna()\n",
    "df.columns"
   ]
  },
  {
   "cell_type": "markdown",
   "metadata": {},
   "source": [
    "### Calculate Change in TmNetRtg and WS"
   ]
  },
  {
   "cell_type": "code",
   "execution_count": 386,
   "metadata": {},
   "outputs": [],
   "source": [
    "next_rtg = []\n",
    "for index, row in df.iterrows():\n",
    "    current_player = row['Player']\n",
    "    next_year = row['Year'] + 1\n",
    "    \n",
    "    try:\n",
    "        rtg = df.loc[(df['Player'] == current_player) & (df['Year'] == next_year)].iloc[0]['TmNetRtg']\n",
    "        next_rtg.append(rtg)\n",
    "    except:\n",
    "        next_rtg.append(math.nan)"
   ]
  },
  {
   "cell_type": "code",
   "execution_count": 387,
   "metadata": {},
   "outputs": [],
   "source": [
    "df['Next Rtg'] = next_rtg"
   ]
  },
  {
   "cell_type": "code",
   "execution_count": 388,
   "metadata": {},
   "outputs": [],
   "source": [
    "next_ws = []\n",
    "for index, row in df.iterrows():\n",
    "    current_player = row['Player']\n",
    "    next_year = row['Year'] + 1\n",
    "    \n",
    "    try:\n",
    "        ws = df.loc[(df['Player'] == current_player) & (df['Year'] == next_year)].iloc[0]['WS']\n",
    "        next_ws.append(ws)\n",
    "    except:\n",
    "        next_ws.append(math.nan)"
   ]
  },
  {
   "cell_type": "code",
   "execution_count": 389,
   "metadata": {},
   "outputs": [
    {
     "data": {
      "text/html": [
       "<div>\n",
       "<style scoped>\n",
       "    .dataframe tbody tr th:only-of-type {\n",
       "        vertical-align: middle;\n",
       "    }\n",
       "\n",
       "    .dataframe tbody tr th {\n",
       "        vertical-align: top;\n",
       "    }\n",
       "\n",
       "    .dataframe thead th {\n",
       "        text-align: right;\n",
       "    }\n",
       "</style>\n",
       "<table border=\"1\" class=\"dataframe\">\n",
       "  <thead>\n",
       "    <tr style=\"text-align: right;\">\n",
       "      <th></th>\n",
       "      <th>Year</th>\n",
       "      <th>Player</th>\n",
       "      <th>Pos</th>\n",
       "      <th>Age</th>\n",
       "      <th>Tm</th>\n",
       "      <th>G</th>\n",
       "      <th>MP</th>\n",
       "      <th>PER</th>\n",
       "      <th>TS%</th>\n",
       "      <th>3PAr</th>\n",
       "      <th>...</th>\n",
       "      <th>WS</th>\n",
       "      <th>WS/48</th>\n",
       "      <th>OBPM</th>\n",
       "      <th>DBPM</th>\n",
       "      <th>3P%</th>\n",
       "      <th>2P%</th>\n",
       "      <th>FT%</th>\n",
       "      <th>TmNetRtg</th>\n",
       "      <th>Next Rtg</th>\n",
       "      <th>Next WS</th>\n",
       "    </tr>\n",
       "  </thead>\n",
       "  <tbody>\n",
       "    <tr>\n",
       "      <th>1</th>\n",
       "      <td>1997</td>\n",
       "      <td>Vinny Del</td>\n",
       "      <td>SG</td>\n",
       "      <td>30.0</td>\n",
       "      <td>SAS</td>\n",
       "      <td>72.0</td>\n",
       "      <td>2243.0</td>\n",
       "      <td>14.4</td>\n",
       "      <td>0.529</td>\n",
       "      <td>0.179</td>\n",
       "      <td>...</td>\n",
       "      <td>3.1</td>\n",
       "      <td>0.066</td>\n",
       "      <td>0.6</td>\n",
       "      <td>-2.3</td>\n",
       "      <td>0.314</td>\n",
       "      <td>0.501</td>\n",
       "      <td>0.868</td>\n",
       "      <td>-8.8</td>\n",
       "      <td>4.4</td>\n",
       "      <td>3.7</td>\n",
       "    </tr>\n",
       "    <tr>\n",
       "      <th>3</th>\n",
       "      <td>1997</td>\n",
       "      <td>Avery Johnson</td>\n",
       "      <td>PG</td>\n",
       "      <td>31.0</td>\n",
       "      <td>SAS</td>\n",
       "      <td>76.0</td>\n",
       "      <td>2472.0</td>\n",
       "      <td>15.0</td>\n",
       "      <td>0.517</td>\n",
       "      <td>0.038</td>\n",
       "      <td>...</td>\n",
       "      <td>3.4</td>\n",
       "      <td>0.066</td>\n",
       "      <td>-0.2</td>\n",
       "      <td>-3.0</td>\n",
       "      <td>0.231</td>\n",
       "      <td>0.487</td>\n",
       "      <td>0.690</td>\n",
       "      <td>-8.8</td>\n",
       "      <td>4.4</td>\n",
       "      <td>6.7</td>\n",
       "    </tr>\n",
       "    <tr>\n",
       "      <th>7</th>\n",
       "      <td>1997</td>\n",
       "      <td>Charles Barkley</td>\n",
       "      <td>PF</td>\n",
       "      <td>33.0</td>\n",
       "      <td>HOU</td>\n",
       "      <td>53.0</td>\n",
       "      <td>2009.0</td>\n",
       "      <td>23.0</td>\n",
       "      <td>0.581</td>\n",
       "      <td>0.296</td>\n",
       "      <td>...</td>\n",
       "      <td>9.4</td>\n",
       "      <td>0.224</td>\n",
       "      <td>4.4</td>\n",
       "      <td>2.8</td>\n",
       "      <td>0.283</td>\n",
       "      <td>0.569</td>\n",
       "      <td>0.694</td>\n",
       "      <td>4.7</td>\n",
       "      <td>-0.9</td>\n",
       "      <td>8.6</td>\n",
       "    </tr>\n",
       "    <tr>\n",
       "      <th>8</th>\n",
       "      <td>1997</td>\n",
       "      <td>Clyde Drexler</td>\n",
       "      <td>SG</td>\n",
       "      <td>34.0</td>\n",
       "      <td>HOU</td>\n",
       "      <td>62.0</td>\n",
       "      <td>2271.0</td>\n",
       "      <td>19.9</td>\n",
       "      <td>0.548</td>\n",
       "      <td>0.373</td>\n",
       "      <td>...</td>\n",
       "      <td>8.1</td>\n",
       "      <td>0.172</td>\n",
       "      <td>3.9</td>\n",
       "      <td>1.7</td>\n",
       "      <td>0.355</td>\n",
       "      <td>0.493</td>\n",
       "      <td>0.750</td>\n",
       "      <td>4.7</td>\n",
       "      <td>-0.9</td>\n",
       "      <td>6.8</td>\n",
       "    </tr>\n",
       "    <tr>\n",
       "      <th>9</th>\n",
       "      <td>1997</td>\n",
       "      <td>Mario Elie</td>\n",
       "      <td>SF</td>\n",
       "      <td>33.0</td>\n",
       "      <td>HOU</td>\n",
       "      <td>78.0</td>\n",
       "      <td>2687.0</td>\n",
       "      <td>14.3</td>\n",
       "      <td>0.662</td>\n",
       "      <td>0.489</td>\n",
       "      <td>...</td>\n",
       "      <td>8.9</td>\n",
       "      <td>0.159</td>\n",
       "      <td>2.4</td>\n",
       "      <td>0.1</td>\n",
       "      <td>0.420</td>\n",
       "      <td>0.572</td>\n",
       "      <td>0.896</td>\n",
       "      <td>4.7</td>\n",
       "      <td>-0.9</td>\n",
       "      <td>3.8</td>\n",
       "    </tr>\n",
       "    <tr>\n",
       "      <th>...</th>\n",
       "      <td>...</td>\n",
       "      <td>...</td>\n",
       "      <td>...</td>\n",
       "      <td>...</td>\n",
       "      <td>...</td>\n",
       "      <td>...</td>\n",
       "      <td>...</td>\n",
       "      <td>...</td>\n",
       "      <td>...</td>\n",
       "      <td>...</td>\n",
       "      <td>...</td>\n",
       "      <td>...</td>\n",
       "      <td>...</td>\n",
       "      <td>...</td>\n",
       "      <td>...</td>\n",
       "      <td>...</td>\n",
       "      <td>...</td>\n",
       "      <td>...</td>\n",
       "      <td>...</td>\n",
       "      <td>...</td>\n",
       "      <td>...</td>\n",
       "    </tr>\n",
       "    <tr>\n",
       "      <th>1409</th>\n",
       "      <td>2020</td>\n",
       "      <td>Dwight Howard</td>\n",
       "      <td>C</td>\n",
       "      <td>34.0</td>\n",
       "      <td>LAL</td>\n",
       "      <td>69.0</td>\n",
       "      <td>1306.0</td>\n",
       "      <td>18.7</td>\n",
       "      <td>0.696</td>\n",
       "      <td>0.018</td>\n",
       "      <td>...</td>\n",
       "      <td>5.4</td>\n",
       "      <td>0.197</td>\n",
       "      <td>-1.0</td>\n",
       "      <td>1.2</td>\n",
       "      <td>0.600</td>\n",
       "      <td>0.732</td>\n",
       "      <td>0.514</td>\n",
       "      <td>5.6</td>\n",
       "      <td>5.5</td>\n",
       "      <td>4.0</td>\n",
       "    </tr>\n",
       "    <tr>\n",
       "      <th>1410</th>\n",
       "      <td>2020</td>\n",
       "      <td>LeBron James</td>\n",
       "      <td>PG</td>\n",
       "      <td>35.0</td>\n",
       "      <td>LAL</td>\n",
       "      <td>67.0</td>\n",
       "      <td>2316.0</td>\n",
       "      <td>25.5</td>\n",
       "      <td>0.577</td>\n",
       "      <td>0.326</td>\n",
       "      <td>...</td>\n",
       "      <td>9.8</td>\n",
       "      <td>0.204</td>\n",
       "      <td>6.6</td>\n",
       "      <td>1.8</td>\n",
       "      <td>0.348</td>\n",
       "      <td>0.564</td>\n",
       "      <td>0.693</td>\n",
       "      <td>5.6</td>\n",
       "      <td>2.9</td>\n",
       "      <td>5.6</td>\n",
       "    </tr>\n",
       "    <tr>\n",
       "      <th>1412</th>\n",
       "      <td>2020</td>\n",
       "      <td>Justin Holiday</td>\n",
       "      <td>SG</td>\n",
       "      <td>30.0</td>\n",
       "      <td>IND</td>\n",
       "      <td>73.0</td>\n",
       "      <td>1826.0</td>\n",
       "      <td>12.1</td>\n",
       "      <td>0.585</td>\n",
       "      <td>0.681</td>\n",
       "      <td>...</td>\n",
       "      <td>4.2</td>\n",
       "      <td>0.112</td>\n",
       "      <td>-0.5</td>\n",
       "      <td>1.8</td>\n",
       "      <td>0.405</td>\n",
       "      <td>0.477</td>\n",
       "      <td>0.791</td>\n",
       "      <td>1.9</td>\n",
       "      <td>0.1</td>\n",
       "      <td>3.1</td>\n",
       "    </tr>\n",
       "    <tr>\n",
       "      <th>1416</th>\n",
       "      <td>2020</td>\n",
       "      <td>Paul Millsap</td>\n",
       "      <td>PF</td>\n",
       "      <td>34.0</td>\n",
       "      <td>DEN</td>\n",
       "      <td>51.0</td>\n",
       "      <td>1240.0</td>\n",
       "      <td>16.9</td>\n",
       "      <td>0.591</td>\n",
       "      <td>0.283</td>\n",
       "      <td>...</td>\n",
       "      <td>3.5</td>\n",
       "      <td>0.136</td>\n",
       "      <td>0.3</td>\n",
       "      <td>-0.2</td>\n",
       "      <td>0.435</td>\n",
       "      <td>0.500</td>\n",
       "      <td>0.816</td>\n",
       "      <td>2.2</td>\n",
       "      <td>4.8</td>\n",
       "      <td>3.2</td>\n",
       "    </tr>\n",
       "    <tr>\n",
       "      <th>1422</th>\n",
       "      <td>2020</td>\n",
       "      <td>Thaddeus Young</td>\n",
       "      <td>PF</td>\n",
       "      <td>31.0</td>\n",
       "      <td>CHI</td>\n",
       "      <td>64.0</td>\n",
       "      <td>1591.0</td>\n",
       "      <td>13.3</td>\n",
       "      <td>0.521</td>\n",
       "      <td>0.369</td>\n",
       "      <td>...</td>\n",
       "      <td>1.9</td>\n",
       "      <td>0.058</td>\n",
       "      <td>-1.4</td>\n",
       "      <td>0.2</td>\n",
       "      <td>0.356</td>\n",
       "      <td>0.501</td>\n",
       "      <td>0.583</td>\n",
       "      <td>-3.1</td>\n",
       "      <td>-1.1</td>\n",
       "      <td>5.1</td>\n",
       "    </tr>\n",
       "  </tbody>\n",
       "</table>\n",
       "<p>821 rows × 30 columns</p>\n",
       "</div>"
      ],
      "text/plain": [
       "      Year           Player Pos   Age   Tm     G      MP   PER    TS%   3PAr  \\\n",
       "1     1997        Vinny Del  SG  30.0  SAS  72.0  2243.0  14.4  0.529  0.179   \n",
       "3     1997    Avery Johnson  PG  31.0  SAS  76.0  2472.0  15.0  0.517  0.038   \n",
       "7     1997  Charles Barkley  PF  33.0  HOU  53.0  2009.0  23.0  0.581  0.296   \n",
       "8     1997    Clyde Drexler  SG  34.0  HOU  62.0  2271.0  19.9  0.548  0.373   \n",
       "9     1997       Mario Elie  SF  33.0  HOU  78.0  2687.0  14.3  0.662  0.489   \n",
       "...    ...              ...  ..   ...  ...   ...     ...   ...    ...    ...   \n",
       "1409  2020    Dwight Howard   C  34.0  LAL  69.0  1306.0  18.7  0.696  0.018   \n",
       "1410  2020     LeBron James  PG  35.0  LAL  67.0  2316.0  25.5  0.577  0.326   \n",
       "1412  2020   Justin Holiday  SG  30.0  IND  73.0  1826.0  12.1  0.585  0.681   \n",
       "1416  2020     Paul Millsap  PF  34.0  DEN  51.0  1240.0  16.9  0.591  0.283   \n",
       "1422  2020   Thaddeus Young  PF  31.0  CHI  64.0  1591.0  13.3  0.521  0.369   \n",
       "\n",
       "      ...   WS  WS/48  OBPM  DBPM    3P%    2P%    FT%  TmNetRtg  Next Rtg  \\\n",
       "1     ...  3.1  0.066   0.6  -2.3  0.314  0.501  0.868      -8.8       4.4   \n",
       "3     ...  3.4  0.066  -0.2  -3.0  0.231  0.487  0.690      -8.8       4.4   \n",
       "7     ...  9.4  0.224   4.4   2.8  0.283  0.569  0.694       4.7      -0.9   \n",
       "8     ...  8.1  0.172   3.9   1.7  0.355  0.493  0.750       4.7      -0.9   \n",
       "9     ...  8.9  0.159   2.4   0.1  0.420  0.572  0.896       4.7      -0.9   \n",
       "...   ...  ...    ...   ...   ...    ...    ...    ...       ...       ...   \n",
       "1409  ...  5.4  0.197  -1.0   1.2  0.600  0.732  0.514       5.6       5.5   \n",
       "1410  ...  9.8  0.204   6.6   1.8  0.348  0.564  0.693       5.6       2.9   \n",
       "1412  ...  4.2  0.112  -0.5   1.8  0.405  0.477  0.791       1.9       0.1   \n",
       "1416  ...  3.5  0.136   0.3  -0.2  0.435  0.500  0.816       2.2       4.8   \n",
       "1422  ...  1.9  0.058  -1.4   0.2  0.356  0.501  0.583      -3.1      -1.1   \n",
       "\n",
       "      Next WS  \n",
       "1         3.7  \n",
       "3         6.7  \n",
       "7         8.6  \n",
       "8         6.8  \n",
       "9         3.8  \n",
       "...       ...  \n",
       "1409      4.0  \n",
       "1410      5.6  \n",
       "1412      3.1  \n",
       "1416      3.2  \n",
       "1422      5.1  \n",
       "\n",
       "[821 rows x 30 columns]"
      ]
     },
     "execution_count": 389,
     "metadata": {},
     "output_type": "execute_result"
    }
   ],
   "source": [
    "df['Next WS'] = next_ws\n",
    "df = df.dropna()\n",
    "df"
   ]
  },
  {
   "cell_type": "markdown",
   "metadata": {},
   "source": [
    "### Create Veteran Value Metric"
   ]
  },
  {
   "cell_type": "code",
   "execution_count": 390,
   "metadata": {},
   "outputs": [],
   "source": [
    "change_ws = 100*((df['Next WS'] - df['WS'])/abs(df['WS']))\n",
    "change_ws.dropna(inplace=True)\n",
    "#assert(change_ws[0] == (df.iloc[0]['Next WS'] - df.iloc[0]['WS']))\n",
    "#assert(len(change_ws) == len(change_usg))"
   ]
  },
  {
   "cell_type": "code",
   "execution_count": 391,
   "metadata": {},
   "outputs": [
    {
     "data": {
      "text/plain": [
       "count     821.000000\n",
       "mean        8.883384\n",
       "std       163.565608\n",
       "min      -300.000000\n",
       "25%       -40.277778\n",
       "50%       -15.116279\n",
       "75%        22.580645\n",
       "max      3100.000000\n",
       "dtype: float64"
      ]
     },
     "execution_count": 391,
     "metadata": {},
     "output_type": "execute_result"
    }
   ],
   "source": [
    "change_ws.describe()"
   ]
  },
  {
   "cell_type": "code",
   "execution_count": 392,
   "metadata": {},
   "outputs": [
    {
     "data": {
      "text/html": [
       "<div>\n",
       "<style scoped>\n",
       "    .dataframe tbody tr th:only-of-type {\n",
       "        vertical-align: middle;\n",
       "    }\n",
       "\n",
       "    .dataframe tbody tr th {\n",
       "        vertical-align: top;\n",
       "    }\n",
       "\n",
       "    .dataframe thead th {\n",
       "        text-align: right;\n",
       "    }\n",
       "</style>\n",
       "<table border=\"1\" class=\"dataframe\">\n",
       "  <thead>\n",
       "    <tr style=\"text-align: right;\">\n",
       "      <th></th>\n",
       "      <th>Year</th>\n",
       "      <th>Player</th>\n",
       "      <th>Pos</th>\n",
       "      <th>Age</th>\n",
       "      <th>Tm</th>\n",
       "      <th>G</th>\n",
       "      <th>MP</th>\n",
       "      <th>PER</th>\n",
       "      <th>TS%</th>\n",
       "      <th>3PAr</th>\n",
       "      <th>...</th>\n",
       "      <th>WS</th>\n",
       "      <th>WS/48</th>\n",
       "      <th>OBPM</th>\n",
       "      <th>DBPM</th>\n",
       "      <th>3P%</th>\n",
       "      <th>2P%</th>\n",
       "      <th>FT%</th>\n",
       "      <th>TmNetRtg</th>\n",
       "      <th>Next Rtg</th>\n",
       "      <th>Next WS</th>\n",
       "    </tr>\n",
       "  </thead>\n",
       "  <tbody>\n",
       "    <tr>\n",
       "      <th>1</th>\n",
       "      <td>1997</td>\n",
       "      <td>Vinny Del</td>\n",
       "      <td>SG</td>\n",
       "      <td>30.0</td>\n",
       "      <td>SAS</td>\n",
       "      <td>72.0</td>\n",
       "      <td>2243.0</td>\n",
       "      <td>14.4</td>\n",
       "      <td>0.529</td>\n",
       "      <td>0.179</td>\n",
       "      <td>...</td>\n",
       "      <td>3.1</td>\n",
       "      <td>0.066</td>\n",
       "      <td>0.6</td>\n",
       "      <td>-2.3</td>\n",
       "      <td>0.314</td>\n",
       "      <td>0.501</td>\n",
       "      <td>0.868</td>\n",
       "      <td>-8.8</td>\n",
       "      <td>4.4</td>\n",
       "      <td>3.7</td>\n",
       "    </tr>\n",
       "    <tr>\n",
       "      <th>3</th>\n",
       "      <td>1997</td>\n",
       "      <td>Avery Johnson</td>\n",
       "      <td>PG</td>\n",
       "      <td>31.0</td>\n",
       "      <td>SAS</td>\n",
       "      <td>76.0</td>\n",
       "      <td>2472.0</td>\n",
       "      <td>15.0</td>\n",
       "      <td>0.517</td>\n",
       "      <td>0.038</td>\n",
       "      <td>...</td>\n",
       "      <td>3.4</td>\n",
       "      <td>0.066</td>\n",
       "      <td>-0.2</td>\n",
       "      <td>-3.0</td>\n",
       "      <td>0.231</td>\n",
       "      <td>0.487</td>\n",
       "      <td>0.690</td>\n",
       "      <td>-8.8</td>\n",
       "      <td>4.4</td>\n",
       "      <td>6.7</td>\n",
       "    </tr>\n",
       "    <tr>\n",
       "      <th>7</th>\n",
       "      <td>1997</td>\n",
       "      <td>Charles Barkley</td>\n",
       "      <td>PF</td>\n",
       "      <td>33.0</td>\n",
       "      <td>HOU</td>\n",
       "      <td>53.0</td>\n",
       "      <td>2009.0</td>\n",
       "      <td>23.0</td>\n",
       "      <td>0.581</td>\n",
       "      <td>0.296</td>\n",
       "      <td>...</td>\n",
       "      <td>9.4</td>\n",
       "      <td>0.224</td>\n",
       "      <td>4.4</td>\n",
       "      <td>2.8</td>\n",
       "      <td>0.283</td>\n",
       "      <td>0.569</td>\n",
       "      <td>0.694</td>\n",
       "      <td>4.7</td>\n",
       "      <td>-0.9</td>\n",
       "      <td>8.6</td>\n",
       "    </tr>\n",
       "    <tr>\n",
       "      <th>8</th>\n",
       "      <td>1997</td>\n",
       "      <td>Clyde Drexler</td>\n",
       "      <td>SG</td>\n",
       "      <td>34.0</td>\n",
       "      <td>HOU</td>\n",
       "      <td>62.0</td>\n",
       "      <td>2271.0</td>\n",
       "      <td>19.9</td>\n",
       "      <td>0.548</td>\n",
       "      <td>0.373</td>\n",
       "      <td>...</td>\n",
       "      <td>8.1</td>\n",
       "      <td>0.172</td>\n",
       "      <td>3.9</td>\n",
       "      <td>1.7</td>\n",
       "      <td>0.355</td>\n",
       "      <td>0.493</td>\n",
       "      <td>0.750</td>\n",
       "      <td>4.7</td>\n",
       "      <td>-0.9</td>\n",
       "      <td>6.8</td>\n",
       "    </tr>\n",
       "    <tr>\n",
       "      <th>9</th>\n",
       "      <td>1997</td>\n",
       "      <td>Mario Elie</td>\n",
       "      <td>SF</td>\n",
       "      <td>33.0</td>\n",
       "      <td>HOU</td>\n",
       "      <td>78.0</td>\n",
       "      <td>2687.0</td>\n",
       "      <td>14.3</td>\n",
       "      <td>0.662</td>\n",
       "      <td>0.489</td>\n",
       "      <td>...</td>\n",
       "      <td>8.9</td>\n",
       "      <td>0.159</td>\n",
       "      <td>2.4</td>\n",
       "      <td>0.1</td>\n",
       "      <td>0.420</td>\n",
       "      <td>0.572</td>\n",
       "      <td>0.896</td>\n",
       "      <td>4.7</td>\n",
       "      <td>-0.9</td>\n",
       "      <td>3.8</td>\n",
       "    </tr>\n",
       "    <tr>\n",
       "      <th>...</th>\n",
       "      <td>...</td>\n",
       "      <td>...</td>\n",
       "      <td>...</td>\n",
       "      <td>...</td>\n",
       "      <td>...</td>\n",
       "      <td>...</td>\n",
       "      <td>...</td>\n",
       "      <td>...</td>\n",
       "      <td>...</td>\n",
       "      <td>...</td>\n",
       "      <td>...</td>\n",
       "      <td>...</td>\n",
       "      <td>...</td>\n",
       "      <td>...</td>\n",
       "      <td>...</td>\n",
       "      <td>...</td>\n",
       "      <td>...</td>\n",
       "      <td>...</td>\n",
       "      <td>...</td>\n",
       "      <td>...</td>\n",
       "      <td>...</td>\n",
       "    </tr>\n",
       "    <tr>\n",
       "      <th>1409</th>\n",
       "      <td>2020</td>\n",
       "      <td>Dwight Howard</td>\n",
       "      <td>C</td>\n",
       "      <td>34.0</td>\n",
       "      <td>LAL</td>\n",
       "      <td>69.0</td>\n",
       "      <td>1306.0</td>\n",
       "      <td>18.7</td>\n",
       "      <td>0.696</td>\n",
       "      <td>0.018</td>\n",
       "      <td>...</td>\n",
       "      <td>5.4</td>\n",
       "      <td>0.197</td>\n",
       "      <td>-1.0</td>\n",
       "      <td>1.2</td>\n",
       "      <td>0.600</td>\n",
       "      <td>0.732</td>\n",
       "      <td>0.514</td>\n",
       "      <td>5.6</td>\n",
       "      <td>5.5</td>\n",
       "      <td>4.0</td>\n",
       "    </tr>\n",
       "    <tr>\n",
       "      <th>1410</th>\n",
       "      <td>2020</td>\n",
       "      <td>LeBron James</td>\n",
       "      <td>PG</td>\n",
       "      <td>35.0</td>\n",
       "      <td>LAL</td>\n",
       "      <td>67.0</td>\n",
       "      <td>2316.0</td>\n",
       "      <td>25.5</td>\n",
       "      <td>0.577</td>\n",
       "      <td>0.326</td>\n",
       "      <td>...</td>\n",
       "      <td>9.8</td>\n",
       "      <td>0.204</td>\n",
       "      <td>6.6</td>\n",
       "      <td>1.8</td>\n",
       "      <td>0.348</td>\n",
       "      <td>0.564</td>\n",
       "      <td>0.693</td>\n",
       "      <td>5.6</td>\n",
       "      <td>2.9</td>\n",
       "      <td>5.6</td>\n",
       "    </tr>\n",
       "    <tr>\n",
       "      <th>1412</th>\n",
       "      <td>2020</td>\n",
       "      <td>Justin Holiday</td>\n",
       "      <td>SG</td>\n",
       "      <td>30.0</td>\n",
       "      <td>IND</td>\n",
       "      <td>73.0</td>\n",
       "      <td>1826.0</td>\n",
       "      <td>12.1</td>\n",
       "      <td>0.585</td>\n",
       "      <td>0.681</td>\n",
       "      <td>...</td>\n",
       "      <td>4.2</td>\n",
       "      <td>0.112</td>\n",
       "      <td>-0.5</td>\n",
       "      <td>1.8</td>\n",
       "      <td>0.405</td>\n",
       "      <td>0.477</td>\n",
       "      <td>0.791</td>\n",
       "      <td>1.9</td>\n",
       "      <td>0.1</td>\n",
       "      <td>3.1</td>\n",
       "    </tr>\n",
       "    <tr>\n",
       "      <th>1416</th>\n",
       "      <td>2020</td>\n",
       "      <td>Paul Millsap</td>\n",
       "      <td>PF</td>\n",
       "      <td>34.0</td>\n",
       "      <td>DEN</td>\n",
       "      <td>51.0</td>\n",
       "      <td>1240.0</td>\n",
       "      <td>16.9</td>\n",
       "      <td>0.591</td>\n",
       "      <td>0.283</td>\n",
       "      <td>...</td>\n",
       "      <td>3.5</td>\n",
       "      <td>0.136</td>\n",
       "      <td>0.3</td>\n",
       "      <td>-0.2</td>\n",
       "      <td>0.435</td>\n",
       "      <td>0.500</td>\n",
       "      <td>0.816</td>\n",
       "      <td>2.2</td>\n",
       "      <td>4.8</td>\n",
       "      <td>3.2</td>\n",
       "    </tr>\n",
       "    <tr>\n",
       "      <th>1422</th>\n",
       "      <td>2020</td>\n",
       "      <td>Thaddeus Young</td>\n",
       "      <td>PF</td>\n",
       "      <td>31.0</td>\n",
       "      <td>CHI</td>\n",
       "      <td>64.0</td>\n",
       "      <td>1591.0</td>\n",
       "      <td>13.3</td>\n",
       "      <td>0.521</td>\n",
       "      <td>0.369</td>\n",
       "      <td>...</td>\n",
       "      <td>1.9</td>\n",
       "      <td>0.058</td>\n",
       "      <td>-1.4</td>\n",
       "      <td>0.2</td>\n",
       "      <td>0.356</td>\n",
       "      <td>0.501</td>\n",
       "      <td>0.583</td>\n",
       "      <td>-3.1</td>\n",
       "      <td>-1.1</td>\n",
       "      <td>5.1</td>\n",
       "    </tr>\n",
       "  </tbody>\n",
       "</table>\n",
       "<p>821 rows × 30 columns</p>\n",
       "</div>"
      ],
      "text/plain": [
       "      Year           Player Pos   Age   Tm     G      MP   PER    TS%   3PAr  \\\n",
       "1     1997        Vinny Del  SG  30.0  SAS  72.0  2243.0  14.4  0.529  0.179   \n",
       "3     1997    Avery Johnson  PG  31.0  SAS  76.0  2472.0  15.0  0.517  0.038   \n",
       "7     1997  Charles Barkley  PF  33.0  HOU  53.0  2009.0  23.0  0.581  0.296   \n",
       "8     1997    Clyde Drexler  SG  34.0  HOU  62.0  2271.0  19.9  0.548  0.373   \n",
       "9     1997       Mario Elie  SF  33.0  HOU  78.0  2687.0  14.3  0.662  0.489   \n",
       "...    ...              ...  ..   ...  ...   ...     ...   ...    ...    ...   \n",
       "1409  2020    Dwight Howard   C  34.0  LAL  69.0  1306.0  18.7  0.696  0.018   \n",
       "1410  2020     LeBron James  PG  35.0  LAL  67.0  2316.0  25.5  0.577  0.326   \n",
       "1412  2020   Justin Holiday  SG  30.0  IND  73.0  1826.0  12.1  0.585  0.681   \n",
       "1416  2020     Paul Millsap  PF  34.0  DEN  51.0  1240.0  16.9  0.591  0.283   \n",
       "1422  2020   Thaddeus Young  PF  31.0  CHI  64.0  1591.0  13.3  0.521  0.369   \n",
       "\n",
       "      ...   WS  WS/48  OBPM  DBPM    3P%    2P%    FT%  TmNetRtg  Next Rtg  \\\n",
       "1     ...  3.1  0.066   0.6  -2.3  0.314  0.501  0.868      -8.8       4.4   \n",
       "3     ...  3.4  0.066  -0.2  -3.0  0.231  0.487  0.690      -8.8       4.4   \n",
       "7     ...  9.4  0.224   4.4   2.8  0.283  0.569  0.694       4.7      -0.9   \n",
       "8     ...  8.1  0.172   3.9   1.7  0.355  0.493  0.750       4.7      -0.9   \n",
       "9     ...  8.9  0.159   2.4   0.1  0.420  0.572  0.896       4.7      -0.9   \n",
       "...   ...  ...    ...   ...   ...    ...    ...    ...       ...       ...   \n",
       "1409  ...  5.4  0.197  -1.0   1.2  0.600  0.732  0.514       5.6       5.5   \n",
       "1410  ...  9.8  0.204   6.6   1.8  0.348  0.564  0.693       5.6       2.9   \n",
       "1412  ...  4.2  0.112  -0.5   1.8  0.405  0.477  0.791       1.9       0.1   \n",
       "1416  ...  3.5  0.136   0.3  -0.2  0.435  0.500  0.816       2.2       4.8   \n",
       "1422  ...  1.9  0.058  -1.4   0.2  0.356  0.501  0.583      -3.1      -1.1   \n",
       "\n",
       "      Next WS  \n",
       "1         3.7  \n",
       "3         6.7  \n",
       "7         8.6  \n",
       "8         6.8  \n",
       "9         3.8  \n",
       "...       ...  \n",
       "1409      4.0  \n",
       "1410      5.6  \n",
       "1412      3.1  \n",
       "1416      3.2  \n",
       "1422      5.1  \n",
       "\n",
       "[821 rows x 30 columns]"
      ]
     },
     "execution_count": 392,
     "metadata": {},
     "output_type": "execute_result"
    }
   ],
   "source": [
    "df"
   ]
  },
  {
   "cell_type": "code",
   "execution_count": 393,
   "metadata": {},
   "outputs": [
    {
     "name": "stdout",
     "output_type": "stream",
     "text": [
      "[424, 835, 1161, 1162, 1163]\n"
     ]
    }
   ],
   "source": [
    "import math\n",
    "change_rtg = 100*((df['Next Rtg'] - df['TmNetRtg']).divide(df['TmNetRtg'].abs()))\n",
    "change_rtg.replace([np.inf, -np.inf], np.nan, inplace=True)\n",
    "null = []\n",
    "for k,v in change_rtg.iteritems():\n",
    "    if math.isnan(v):\n",
    "        null.append(k)\n",
    "print(null)\n",
    "change_rtg.dropna(inplace=True)"
   ]
  },
  {
   "cell_type": "code",
   "execution_count": 394,
   "metadata": {},
   "outputs": [
    {
     "data": {
      "text/html": [
       "<div>\n",
       "<style scoped>\n",
       "    .dataframe tbody tr th:only-of-type {\n",
       "        vertical-align: middle;\n",
       "    }\n",
       "\n",
       "    .dataframe tbody tr th {\n",
       "        vertical-align: top;\n",
       "    }\n",
       "\n",
       "    .dataframe thead th {\n",
       "        text-align: right;\n",
       "    }\n",
       "</style>\n",
       "<table border=\"1\" class=\"dataframe\">\n",
       "  <thead>\n",
       "    <tr style=\"text-align: right;\">\n",
       "      <th></th>\n",
       "      <th>Year</th>\n",
       "      <th>Player</th>\n",
       "      <th>Pos</th>\n",
       "      <th>Age</th>\n",
       "      <th>Tm</th>\n",
       "      <th>G</th>\n",
       "      <th>MP</th>\n",
       "      <th>PER</th>\n",
       "      <th>TS%</th>\n",
       "      <th>3PAr</th>\n",
       "      <th>...</th>\n",
       "      <th>WS</th>\n",
       "      <th>WS/48</th>\n",
       "      <th>OBPM</th>\n",
       "      <th>DBPM</th>\n",
       "      <th>3P%</th>\n",
       "      <th>2P%</th>\n",
       "      <th>FT%</th>\n",
       "      <th>TmNetRtg</th>\n",
       "      <th>Next Rtg</th>\n",
       "      <th>Next WS</th>\n",
       "    </tr>\n",
       "  </thead>\n",
       "  <tbody>\n",
       "    <tr>\n",
       "      <th>1136</th>\n",
       "      <td>2015</td>\n",
       "      <td>LeBron James</td>\n",
       "      <td>SF</td>\n",
       "      <td>30.0</td>\n",
       "      <td>CLE</td>\n",
       "      <td>69.0</td>\n",
       "      <td>2493.0</td>\n",
       "      <td>25.9</td>\n",
       "      <td>0.577</td>\n",
       "      <td>0.265</td>\n",
       "      <td>...</td>\n",
       "      <td>10.4</td>\n",
       "      <td>0.199</td>\n",
       "      <td>6.2</td>\n",
       "      <td>1.2</td>\n",
       "      <td>0.354</td>\n",
       "      <td>0.536</td>\n",
       "      <td>0.710</td>\n",
       "      <td>4.8</td>\n",
       "      <td>6.3</td>\n",
       "      <td>13.6</td>\n",
       "    </tr>\n",
       "    <tr>\n",
       "      <th>1195</th>\n",
       "      <td>2016</td>\n",
       "      <td>LeBron James</td>\n",
       "      <td>SF</td>\n",
       "      <td>31.0</td>\n",
       "      <td>CLE</td>\n",
       "      <td>76.0</td>\n",
       "      <td>2709.0</td>\n",
       "      <td>27.5</td>\n",
       "      <td>0.588</td>\n",
       "      <td>0.199</td>\n",
       "      <td>...</td>\n",
       "      <td>13.6</td>\n",
       "      <td>0.242</td>\n",
       "      <td>6.9</td>\n",
       "      <td>2.3</td>\n",
       "      <td>0.309</td>\n",
       "      <td>0.573</td>\n",
       "      <td>0.731</td>\n",
       "      <td>6.3</td>\n",
       "      <td>3.1</td>\n",
       "      <td>12.9</td>\n",
       "    </tr>\n",
       "    <tr>\n",
       "      <th>1241</th>\n",
       "      <td>2017</td>\n",
       "      <td>LeBron James</td>\n",
       "      <td>SF</td>\n",
       "      <td>32.0</td>\n",
       "      <td>CLE</td>\n",
       "      <td>74.0</td>\n",
       "      <td>2794.0</td>\n",
       "      <td>27.0</td>\n",
       "      <td>0.619</td>\n",
       "      <td>0.254</td>\n",
       "      <td>...</td>\n",
       "      <td>12.9</td>\n",
       "      <td>0.221</td>\n",
       "      <td>6.8</td>\n",
       "      <td>1.6</td>\n",
       "      <td>0.363</td>\n",
       "      <td>0.611</td>\n",
       "      <td>0.674</td>\n",
       "      <td>3.1</td>\n",
       "      <td>1.0</td>\n",
       "      <td>14.0</td>\n",
       "    </tr>\n",
       "    <tr>\n",
       "      <th>1307</th>\n",
       "      <td>2018</td>\n",
       "      <td>LeBron James</td>\n",
       "      <td>PF</td>\n",
       "      <td>33.0</td>\n",
       "      <td>CLE</td>\n",
       "      <td>82.0</td>\n",
       "      <td>3026.0</td>\n",
       "      <td>28.6</td>\n",
       "      <td>0.621</td>\n",
       "      <td>0.257</td>\n",
       "      <td>...</td>\n",
       "      <td>14.0</td>\n",
       "      <td>0.221</td>\n",
       "      <td>7.6</td>\n",
       "      <td>2.0</td>\n",
       "      <td>0.367</td>\n",
       "      <td>0.603</td>\n",
       "      <td>0.731</td>\n",
       "      <td>1.0</td>\n",
       "      <td>-1.6</td>\n",
       "      <td>7.2</td>\n",
       "    </tr>\n",
       "    <tr>\n",
       "      <th>1366</th>\n",
       "      <td>2019</td>\n",
       "      <td>LeBron James</td>\n",
       "      <td>SF</td>\n",
       "      <td>34.0</td>\n",
       "      <td>LAL</td>\n",
       "      <td>55.0</td>\n",
       "      <td>1937.0</td>\n",
       "      <td>25.6</td>\n",
       "      <td>0.588</td>\n",
       "      <td>0.299</td>\n",
       "      <td>...</td>\n",
       "      <td>7.2</td>\n",
       "      <td>0.179</td>\n",
       "      <td>6.4</td>\n",
       "      <td>1.7</td>\n",
       "      <td>0.339</td>\n",
       "      <td>0.582</td>\n",
       "      <td>0.665</td>\n",
       "      <td>-1.6</td>\n",
       "      <td>5.6</td>\n",
       "      <td>9.8</td>\n",
       "    </tr>\n",
       "    <tr>\n",
       "      <th>1410</th>\n",
       "      <td>2020</td>\n",
       "      <td>LeBron James</td>\n",
       "      <td>PG</td>\n",
       "      <td>35.0</td>\n",
       "      <td>LAL</td>\n",
       "      <td>67.0</td>\n",
       "      <td>2316.0</td>\n",
       "      <td>25.5</td>\n",
       "      <td>0.577</td>\n",
       "      <td>0.326</td>\n",
       "      <td>...</td>\n",
       "      <td>9.8</td>\n",
       "      <td>0.204</td>\n",
       "      <td>6.6</td>\n",
       "      <td>1.8</td>\n",
       "      <td>0.348</td>\n",
       "      <td>0.564</td>\n",
       "      <td>0.693</td>\n",
       "      <td>5.6</td>\n",
       "      <td>2.9</td>\n",
       "      <td>5.6</td>\n",
       "    </tr>\n",
       "  </tbody>\n",
       "</table>\n",
       "<p>6 rows × 30 columns</p>\n",
       "</div>"
      ],
      "text/plain": [
       "      Year        Player Pos   Age   Tm     G      MP   PER    TS%   3PAr  \\\n",
       "1136  2015  LeBron James  SF  30.0  CLE  69.0  2493.0  25.9  0.577  0.265   \n",
       "1195  2016  LeBron James  SF  31.0  CLE  76.0  2709.0  27.5  0.588  0.199   \n",
       "1241  2017  LeBron James  SF  32.0  CLE  74.0  2794.0  27.0  0.619  0.254   \n",
       "1307  2018  LeBron James  PF  33.0  CLE  82.0  3026.0  28.6  0.621  0.257   \n",
       "1366  2019  LeBron James  SF  34.0  LAL  55.0  1937.0  25.6  0.588  0.299   \n",
       "1410  2020  LeBron James  PG  35.0  LAL  67.0  2316.0  25.5  0.577  0.326   \n",
       "\n",
       "      ...    WS  WS/48  OBPM  DBPM    3P%    2P%    FT%  TmNetRtg  Next Rtg  \\\n",
       "1136  ...  10.4  0.199   6.2   1.2  0.354  0.536  0.710       4.8       6.3   \n",
       "1195  ...  13.6  0.242   6.9   2.3  0.309  0.573  0.731       6.3       3.1   \n",
       "1241  ...  12.9  0.221   6.8   1.6  0.363  0.611  0.674       3.1       1.0   \n",
       "1307  ...  14.0  0.221   7.6   2.0  0.367  0.603  0.731       1.0      -1.6   \n",
       "1366  ...   7.2  0.179   6.4   1.7  0.339  0.582  0.665      -1.6       5.6   \n",
       "1410  ...   9.8  0.204   6.6   1.8  0.348  0.564  0.693       5.6       2.9   \n",
       "\n",
       "      Next WS  \n",
       "1136     13.6  \n",
       "1195     12.9  \n",
       "1241     14.0  \n",
       "1307      7.2  \n",
       "1366      9.8  \n",
       "1410      5.6  \n",
       "\n",
       "[6 rows x 30 columns]"
      ]
     },
     "execution_count": 394,
     "metadata": {},
     "output_type": "execute_result"
    }
   ],
   "source": [
    "df[df['Player']=='LeBron James']"
   ]
  },
  {
   "cell_type": "code",
   "execution_count": 395,
   "metadata": {},
   "outputs": [
    {
     "data": {
      "text/html": [
       "<div>\n",
       "<style scoped>\n",
       "    .dataframe tbody tr th:only-of-type {\n",
       "        vertical-align: middle;\n",
       "    }\n",
       "\n",
       "    .dataframe tbody tr th {\n",
       "        vertical-align: top;\n",
       "    }\n",
       "\n",
       "    .dataframe thead th {\n",
       "        text-align: right;\n",
       "    }\n",
       "</style>\n",
       "<table border=\"1\" class=\"dataframe\">\n",
       "  <thead>\n",
       "    <tr style=\"text-align: right;\">\n",
       "      <th></th>\n",
       "      <th>Year</th>\n",
       "      <th>Player</th>\n",
       "      <th>Pos</th>\n",
       "      <th>Age</th>\n",
       "      <th>Tm</th>\n",
       "      <th>G</th>\n",
       "      <th>MP</th>\n",
       "      <th>PER</th>\n",
       "      <th>TS%</th>\n",
       "      <th>3PAr</th>\n",
       "      <th>...</th>\n",
       "      <th>WS</th>\n",
       "      <th>WS/48</th>\n",
       "      <th>OBPM</th>\n",
       "      <th>DBPM</th>\n",
       "      <th>3P%</th>\n",
       "      <th>2P%</th>\n",
       "      <th>FT%</th>\n",
       "      <th>TmNetRtg</th>\n",
       "      <th>Next Rtg</th>\n",
       "      <th>Next WS</th>\n",
       "    </tr>\n",
       "  </thead>\n",
       "  <tbody>\n",
       "    <tr>\n",
       "      <th>1</th>\n",
       "      <td>1997</td>\n",
       "      <td>Vinny Del</td>\n",
       "      <td>SG</td>\n",
       "      <td>30.0</td>\n",
       "      <td>SAS</td>\n",
       "      <td>72.0</td>\n",
       "      <td>2243.0</td>\n",
       "      <td>14.4</td>\n",
       "      <td>0.529</td>\n",
       "      <td>0.179</td>\n",
       "      <td>...</td>\n",
       "      <td>3.1</td>\n",
       "      <td>0.066</td>\n",
       "      <td>0.6</td>\n",
       "      <td>-2.3</td>\n",
       "      <td>0.314</td>\n",
       "      <td>0.501</td>\n",
       "      <td>0.868</td>\n",
       "      <td>-8.8</td>\n",
       "      <td>4.4</td>\n",
       "      <td>3.7</td>\n",
       "    </tr>\n",
       "    <tr>\n",
       "      <th>3</th>\n",
       "      <td>1997</td>\n",
       "      <td>Avery Johnson</td>\n",
       "      <td>PG</td>\n",
       "      <td>31.0</td>\n",
       "      <td>SAS</td>\n",
       "      <td>76.0</td>\n",
       "      <td>2472.0</td>\n",
       "      <td>15.0</td>\n",
       "      <td>0.517</td>\n",
       "      <td>0.038</td>\n",
       "      <td>...</td>\n",
       "      <td>3.4</td>\n",
       "      <td>0.066</td>\n",
       "      <td>-0.2</td>\n",
       "      <td>-3.0</td>\n",
       "      <td>0.231</td>\n",
       "      <td>0.487</td>\n",
       "      <td>0.690</td>\n",
       "      <td>-8.8</td>\n",
       "      <td>4.4</td>\n",
       "      <td>6.7</td>\n",
       "    </tr>\n",
       "    <tr>\n",
       "      <th>7</th>\n",
       "      <td>1997</td>\n",
       "      <td>Charles Barkley</td>\n",
       "      <td>PF</td>\n",
       "      <td>33.0</td>\n",
       "      <td>HOU</td>\n",
       "      <td>53.0</td>\n",
       "      <td>2009.0</td>\n",
       "      <td>23.0</td>\n",
       "      <td>0.581</td>\n",
       "      <td>0.296</td>\n",
       "      <td>...</td>\n",
       "      <td>9.4</td>\n",
       "      <td>0.224</td>\n",
       "      <td>4.4</td>\n",
       "      <td>2.8</td>\n",
       "      <td>0.283</td>\n",
       "      <td>0.569</td>\n",
       "      <td>0.694</td>\n",
       "      <td>4.7</td>\n",
       "      <td>-0.9</td>\n",
       "      <td>8.6</td>\n",
       "    </tr>\n",
       "    <tr>\n",
       "      <th>8</th>\n",
       "      <td>1997</td>\n",
       "      <td>Clyde Drexler</td>\n",
       "      <td>SG</td>\n",
       "      <td>34.0</td>\n",
       "      <td>HOU</td>\n",
       "      <td>62.0</td>\n",
       "      <td>2271.0</td>\n",
       "      <td>19.9</td>\n",
       "      <td>0.548</td>\n",
       "      <td>0.373</td>\n",
       "      <td>...</td>\n",
       "      <td>8.1</td>\n",
       "      <td>0.172</td>\n",
       "      <td>3.9</td>\n",
       "      <td>1.7</td>\n",
       "      <td>0.355</td>\n",
       "      <td>0.493</td>\n",
       "      <td>0.750</td>\n",
       "      <td>4.7</td>\n",
       "      <td>-0.9</td>\n",
       "      <td>6.8</td>\n",
       "    </tr>\n",
       "    <tr>\n",
       "      <th>9</th>\n",
       "      <td>1997</td>\n",
       "      <td>Mario Elie</td>\n",
       "      <td>SF</td>\n",
       "      <td>33.0</td>\n",
       "      <td>HOU</td>\n",
       "      <td>78.0</td>\n",
       "      <td>2687.0</td>\n",
       "      <td>14.3</td>\n",
       "      <td>0.662</td>\n",
       "      <td>0.489</td>\n",
       "      <td>...</td>\n",
       "      <td>8.9</td>\n",
       "      <td>0.159</td>\n",
       "      <td>2.4</td>\n",
       "      <td>0.1</td>\n",
       "      <td>0.420</td>\n",
       "      <td>0.572</td>\n",
       "      <td>0.896</td>\n",
       "      <td>4.7</td>\n",
       "      <td>-0.9</td>\n",
       "      <td>3.8</td>\n",
       "    </tr>\n",
       "    <tr>\n",
       "      <th>...</th>\n",
       "      <td>...</td>\n",
       "      <td>...</td>\n",
       "      <td>...</td>\n",
       "      <td>...</td>\n",
       "      <td>...</td>\n",
       "      <td>...</td>\n",
       "      <td>...</td>\n",
       "      <td>...</td>\n",
       "      <td>...</td>\n",
       "      <td>...</td>\n",
       "      <td>...</td>\n",
       "      <td>...</td>\n",
       "      <td>...</td>\n",
       "      <td>...</td>\n",
       "      <td>...</td>\n",
       "      <td>...</td>\n",
       "      <td>...</td>\n",
       "      <td>...</td>\n",
       "      <td>...</td>\n",
       "      <td>...</td>\n",
       "      <td>...</td>\n",
       "    </tr>\n",
       "    <tr>\n",
       "      <th>1409</th>\n",
       "      <td>2020</td>\n",
       "      <td>Dwight Howard</td>\n",
       "      <td>C</td>\n",
       "      <td>34.0</td>\n",
       "      <td>LAL</td>\n",
       "      <td>69.0</td>\n",
       "      <td>1306.0</td>\n",
       "      <td>18.7</td>\n",
       "      <td>0.696</td>\n",
       "      <td>0.018</td>\n",
       "      <td>...</td>\n",
       "      <td>5.4</td>\n",
       "      <td>0.197</td>\n",
       "      <td>-1.0</td>\n",
       "      <td>1.2</td>\n",
       "      <td>0.600</td>\n",
       "      <td>0.732</td>\n",
       "      <td>0.514</td>\n",
       "      <td>5.6</td>\n",
       "      <td>5.5</td>\n",
       "      <td>4.0</td>\n",
       "    </tr>\n",
       "    <tr>\n",
       "      <th>1410</th>\n",
       "      <td>2020</td>\n",
       "      <td>LeBron James</td>\n",
       "      <td>PG</td>\n",
       "      <td>35.0</td>\n",
       "      <td>LAL</td>\n",
       "      <td>67.0</td>\n",
       "      <td>2316.0</td>\n",
       "      <td>25.5</td>\n",
       "      <td>0.577</td>\n",
       "      <td>0.326</td>\n",
       "      <td>...</td>\n",
       "      <td>9.8</td>\n",
       "      <td>0.204</td>\n",
       "      <td>6.6</td>\n",
       "      <td>1.8</td>\n",
       "      <td>0.348</td>\n",
       "      <td>0.564</td>\n",
       "      <td>0.693</td>\n",
       "      <td>5.6</td>\n",
       "      <td>2.9</td>\n",
       "      <td>5.6</td>\n",
       "    </tr>\n",
       "    <tr>\n",
       "      <th>1412</th>\n",
       "      <td>2020</td>\n",
       "      <td>Justin Holiday</td>\n",
       "      <td>SG</td>\n",
       "      <td>30.0</td>\n",
       "      <td>IND</td>\n",
       "      <td>73.0</td>\n",
       "      <td>1826.0</td>\n",
       "      <td>12.1</td>\n",
       "      <td>0.585</td>\n",
       "      <td>0.681</td>\n",
       "      <td>...</td>\n",
       "      <td>4.2</td>\n",
       "      <td>0.112</td>\n",
       "      <td>-0.5</td>\n",
       "      <td>1.8</td>\n",
       "      <td>0.405</td>\n",
       "      <td>0.477</td>\n",
       "      <td>0.791</td>\n",
       "      <td>1.9</td>\n",
       "      <td>0.1</td>\n",
       "      <td>3.1</td>\n",
       "    </tr>\n",
       "    <tr>\n",
       "      <th>1416</th>\n",
       "      <td>2020</td>\n",
       "      <td>Paul Millsap</td>\n",
       "      <td>PF</td>\n",
       "      <td>34.0</td>\n",
       "      <td>DEN</td>\n",
       "      <td>51.0</td>\n",
       "      <td>1240.0</td>\n",
       "      <td>16.9</td>\n",
       "      <td>0.591</td>\n",
       "      <td>0.283</td>\n",
       "      <td>...</td>\n",
       "      <td>3.5</td>\n",
       "      <td>0.136</td>\n",
       "      <td>0.3</td>\n",
       "      <td>-0.2</td>\n",
       "      <td>0.435</td>\n",
       "      <td>0.500</td>\n",
       "      <td>0.816</td>\n",
       "      <td>2.2</td>\n",
       "      <td>4.8</td>\n",
       "      <td>3.2</td>\n",
       "    </tr>\n",
       "    <tr>\n",
       "      <th>1422</th>\n",
       "      <td>2020</td>\n",
       "      <td>Thaddeus Young</td>\n",
       "      <td>PF</td>\n",
       "      <td>31.0</td>\n",
       "      <td>CHI</td>\n",
       "      <td>64.0</td>\n",
       "      <td>1591.0</td>\n",
       "      <td>13.3</td>\n",
       "      <td>0.521</td>\n",
       "      <td>0.369</td>\n",
       "      <td>...</td>\n",
       "      <td>1.9</td>\n",
       "      <td>0.058</td>\n",
       "      <td>-1.4</td>\n",
       "      <td>0.2</td>\n",
       "      <td>0.356</td>\n",
       "      <td>0.501</td>\n",
       "      <td>0.583</td>\n",
       "      <td>-3.1</td>\n",
       "      <td>-1.1</td>\n",
       "      <td>5.1</td>\n",
       "    </tr>\n",
       "  </tbody>\n",
       "</table>\n",
       "<p>821 rows × 30 columns</p>\n",
       "</div>"
      ],
      "text/plain": [
       "      Year           Player Pos   Age   Tm     G      MP   PER    TS%   3PAr  \\\n",
       "1     1997        Vinny Del  SG  30.0  SAS  72.0  2243.0  14.4  0.529  0.179   \n",
       "3     1997    Avery Johnson  PG  31.0  SAS  76.0  2472.0  15.0  0.517  0.038   \n",
       "7     1997  Charles Barkley  PF  33.0  HOU  53.0  2009.0  23.0  0.581  0.296   \n",
       "8     1997    Clyde Drexler  SG  34.0  HOU  62.0  2271.0  19.9  0.548  0.373   \n",
       "9     1997       Mario Elie  SF  33.0  HOU  78.0  2687.0  14.3  0.662  0.489   \n",
       "...    ...              ...  ..   ...  ...   ...     ...   ...    ...    ...   \n",
       "1409  2020    Dwight Howard   C  34.0  LAL  69.0  1306.0  18.7  0.696  0.018   \n",
       "1410  2020     LeBron James  PG  35.0  LAL  67.0  2316.0  25.5  0.577  0.326   \n",
       "1412  2020   Justin Holiday  SG  30.0  IND  73.0  1826.0  12.1  0.585  0.681   \n",
       "1416  2020     Paul Millsap  PF  34.0  DEN  51.0  1240.0  16.9  0.591  0.283   \n",
       "1422  2020   Thaddeus Young  PF  31.0  CHI  64.0  1591.0  13.3  0.521  0.369   \n",
       "\n",
       "      ...   WS  WS/48  OBPM  DBPM    3P%    2P%    FT%  TmNetRtg  Next Rtg  \\\n",
       "1     ...  3.1  0.066   0.6  -2.3  0.314  0.501  0.868      -8.8       4.4   \n",
       "3     ...  3.4  0.066  -0.2  -3.0  0.231  0.487  0.690      -8.8       4.4   \n",
       "7     ...  9.4  0.224   4.4   2.8  0.283  0.569  0.694       4.7      -0.9   \n",
       "8     ...  8.1  0.172   3.9   1.7  0.355  0.493  0.750       4.7      -0.9   \n",
       "9     ...  8.9  0.159   2.4   0.1  0.420  0.572  0.896       4.7      -0.9   \n",
       "...   ...  ...    ...   ...   ...    ...    ...    ...       ...       ...   \n",
       "1409  ...  5.4  0.197  -1.0   1.2  0.600  0.732  0.514       5.6       5.5   \n",
       "1410  ...  9.8  0.204   6.6   1.8  0.348  0.564  0.693       5.6       2.9   \n",
       "1412  ...  4.2  0.112  -0.5   1.8  0.405  0.477  0.791       1.9       0.1   \n",
       "1416  ...  3.5  0.136   0.3  -0.2  0.435  0.500  0.816       2.2       4.8   \n",
       "1422  ...  1.9  0.058  -1.4   0.2  0.356  0.501  0.583      -3.1      -1.1   \n",
       "\n",
       "      Next WS  \n",
       "1         3.7  \n",
       "3         6.7  \n",
       "7         8.6  \n",
       "8         6.8  \n",
       "9         3.8  \n",
       "...       ...  \n",
       "1409      4.0  \n",
       "1410      5.6  \n",
       "1412      3.1  \n",
       "1416      3.2  \n",
       "1422      5.1  \n",
       "\n",
       "[821 rows x 30 columns]"
      ]
     },
     "execution_count": 395,
     "metadata": {},
     "output_type": "execute_result"
    }
   ],
   "source": [
    "df"
   ]
  },
  {
   "cell_type": "code",
   "execution_count": 396,
   "metadata": {},
   "outputs": [
    {
     "name": "stdout",
     "output_type": "stream",
     "text": [
      "821 821 816\n"
     ]
    }
   ],
   "source": [
    "print(len(df),len(change_ws),len(change_rtg))"
   ]
  },
  {
   "cell_type": "code",
   "execution_count": 397,
   "metadata": {},
   "outputs": [],
   "source": [
    "index = [424, 835, 1161, 1162, 1163]"
   ]
  },
  {
   "cell_type": "code",
   "execution_count": 398,
   "metadata": {},
   "outputs": [],
   "source": [
    "df = df[~df.index.isin(index)]"
   ]
  },
  {
   "cell_type": "code",
   "execution_count": 399,
   "metadata": {},
   "outputs": [],
   "source": [
    "change_ws = change_ws[~change_ws.index.isin(index)]"
   ]
  },
  {
   "cell_type": "code",
   "execution_count": 400,
   "metadata": {},
   "outputs": [
    {
     "name": "stdout",
     "output_type": "stream",
     "text": [
      "816 816 816\n"
     ]
    }
   ],
   "source": [
    "print(len(df),len(change_ws),len(change_rtg))"
   ]
  },
  {
   "cell_type": "code",
   "execution_count": 401,
   "metadata": {},
   "outputs": [
    {
     "name": "stderr",
     "output_type": "stream",
     "text": [
      "<ipython-input-401-8cbe54cae7af>:27: SettingWithCopyWarning: \n",
      "A value is trying to be set on a copy of a slice from a DataFrame.\n",
      "Try using .loc[row_indexer,col_indexer] = value instead\n",
      "\n",
      "See the caveats in the documentation: https://pandas.pydata.org/pandas-docs/stable/user_guide/indexing.html#returning-a-view-versus-a-copy\n",
      "  df['Veteran Value'] = targets\n",
      "<ipython-input-401-8cbe54cae7af>:28: SettingWithCopyWarning: \n",
      "A value is trying to be set on a copy of a slice from a DataFrame.\n",
      "Try using .loc[row_indexer,col_indexer] = value instead\n",
      "\n",
      "See the caveats in the documentation: https://pandas.pydata.org/pandas-docs/stable/user_guide/indexing.html#returning-a-view-versus-a-copy\n",
      "  df['VV Class'] = target_class\n"
     ]
    }
   ],
   "source": [
    "z = zip(change_ws, change_rtg)\n",
    "targets = []\n",
    "target_class = []\n",
    "#tgt represents decline\n",
    "for t in z:\n",
    "    d_ws = t[0]\n",
    "    d_rtg = t[1]\n",
    "    \n",
    "    RTG_UP = d_rtg > 0\n",
    "    RTG_DOWN = d_rtg < 0\n",
    "    WS_UP = d_ws >= 0\n",
    "    \n",
    "    \n",
    "    if RTG_UP:\n",
    "        vv = d_rtg * d_ws\n",
    "    else:\n",
    "        if WS_UP:\n",
    "            vv = -1*d_rtg \n",
    "        else:\n",
    "            vv = d_rtg / d_ws\n",
    "        \n",
    "        \n",
    "    \n",
    "    targets.append(vv)\n",
    "    target_class.append(0 if vv >= 0 else 1)\n",
    "    \n",
    "df['Veteran Value'] = targets\n",
    "df['VV Class'] = target_class"
   ]
  },
  {
   "cell_type": "code",
   "execution_count": 402,
   "metadata": {},
   "outputs": [
    {
     "data": {
      "text/plain": [
       "4365.928591539"
      ]
     },
     "execution_count": 402,
     "metadata": {},
     "output_type": "execute_result"
    }
   ],
   "source": [
    "np.mean(targets)"
   ]
  },
  {
   "cell_type": "code",
   "execution_count": 403,
   "metadata": {},
   "outputs": [
    {
     "data": {
      "text/plain": [
       "-2439.2091284674398"
      ]
     },
     "execution_count": 403,
     "metadata": {},
     "output_type": "execute_result"
    }
   ],
   "source": [
    "np.percentile(targets, 10)"
   ]
  },
  {
   "cell_type": "code",
   "execution_count": 404,
   "metadata": {},
   "outputs": [
    {
     "data": {
      "text/html": [
       "<div>\n",
       "<style scoped>\n",
       "    .dataframe tbody tr th:only-of-type {\n",
       "        vertical-align: middle;\n",
       "    }\n",
       "\n",
       "    .dataframe tbody tr th {\n",
       "        vertical-align: top;\n",
       "    }\n",
       "\n",
       "    .dataframe thead th {\n",
       "        text-align: right;\n",
       "    }\n",
       "</style>\n",
       "<table border=\"1\" class=\"dataframe\">\n",
       "  <thead>\n",
       "    <tr style=\"text-align: right;\">\n",
       "      <th></th>\n",
       "      <th>Year</th>\n",
       "      <th>Player</th>\n",
       "      <th>Pos</th>\n",
       "      <th>Age</th>\n",
       "      <th>Tm</th>\n",
       "      <th>G</th>\n",
       "      <th>MP</th>\n",
       "      <th>PER</th>\n",
       "      <th>TS%</th>\n",
       "      <th>3PAr</th>\n",
       "      <th>...</th>\n",
       "      <th>OBPM</th>\n",
       "      <th>DBPM</th>\n",
       "      <th>3P%</th>\n",
       "      <th>2P%</th>\n",
       "      <th>FT%</th>\n",
       "      <th>TmNetRtg</th>\n",
       "      <th>Next Rtg</th>\n",
       "      <th>Next WS</th>\n",
       "      <th>Veteran Value</th>\n",
       "      <th>VV Class</th>\n",
       "    </tr>\n",
       "  </thead>\n",
       "  <tbody>\n",
       "    <tr>\n",
       "      <th>1</th>\n",
       "      <td>1997</td>\n",
       "      <td>Vinny Del</td>\n",
       "      <td>SG</td>\n",
       "      <td>30.0</td>\n",
       "      <td>SAS</td>\n",
       "      <td>72.0</td>\n",
       "      <td>2243.0</td>\n",
       "      <td>14.4</td>\n",
       "      <td>0.529</td>\n",
       "      <td>0.179</td>\n",
       "      <td>...</td>\n",
       "      <td>0.6</td>\n",
       "      <td>-2.3</td>\n",
       "      <td>0.314</td>\n",
       "      <td>0.501</td>\n",
       "      <td>0.868</td>\n",
       "      <td>-8.8</td>\n",
       "      <td>4.4</td>\n",
       "      <td>3.7</td>\n",
       "      <td>2903.225806</td>\n",
       "      <td>0</td>\n",
       "    </tr>\n",
       "    <tr>\n",
       "      <th>3</th>\n",
       "      <td>1997</td>\n",
       "      <td>Avery Johnson</td>\n",
       "      <td>PG</td>\n",
       "      <td>31.0</td>\n",
       "      <td>SAS</td>\n",
       "      <td>76.0</td>\n",
       "      <td>2472.0</td>\n",
       "      <td>15.0</td>\n",
       "      <td>0.517</td>\n",
       "      <td>0.038</td>\n",
       "      <td>...</td>\n",
       "      <td>-0.2</td>\n",
       "      <td>-3.0</td>\n",
       "      <td>0.231</td>\n",
       "      <td>0.487</td>\n",
       "      <td>0.690</td>\n",
       "      <td>-8.8</td>\n",
       "      <td>4.4</td>\n",
       "      <td>6.7</td>\n",
       "      <td>14558.823529</td>\n",
       "      <td>0</td>\n",
       "    </tr>\n",
       "    <tr>\n",
       "      <th>7</th>\n",
       "      <td>1997</td>\n",
       "      <td>Charles Barkley</td>\n",
       "      <td>PF</td>\n",
       "      <td>33.0</td>\n",
       "      <td>HOU</td>\n",
       "      <td>53.0</td>\n",
       "      <td>2009.0</td>\n",
       "      <td>23.0</td>\n",
       "      <td>0.581</td>\n",
       "      <td>0.296</td>\n",
       "      <td>...</td>\n",
       "      <td>4.4</td>\n",
       "      <td>2.8</td>\n",
       "      <td>0.283</td>\n",
       "      <td>0.569</td>\n",
       "      <td>0.694</td>\n",
       "      <td>4.7</td>\n",
       "      <td>-0.9</td>\n",
       "      <td>8.6</td>\n",
       "      <td>14.000000</td>\n",
       "      <td>0</td>\n",
       "    </tr>\n",
       "    <tr>\n",
       "      <th>8</th>\n",
       "      <td>1997</td>\n",
       "      <td>Clyde Drexler</td>\n",
       "      <td>SG</td>\n",
       "      <td>34.0</td>\n",
       "      <td>HOU</td>\n",
       "      <td>62.0</td>\n",
       "      <td>2271.0</td>\n",
       "      <td>19.9</td>\n",
       "      <td>0.548</td>\n",
       "      <td>0.373</td>\n",
       "      <td>...</td>\n",
       "      <td>3.9</td>\n",
       "      <td>1.7</td>\n",
       "      <td>0.355</td>\n",
       "      <td>0.493</td>\n",
       "      <td>0.750</td>\n",
       "      <td>4.7</td>\n",
       "      <td>-0.9</td>\n",
       "      <td>6.8</td>\n",
       "      <td>7.423895</td>\n",
       "      <td>0</td>\n",
       "    </tr>\n",
       "    <tr>\n",
       "      <th>9</th>\n",
       "      <td>1997</td>\n",
       "      <td>Mario Elie</td>\n",
       "      <td>SF</td>\n",
       "      <td>33.0</td>\n",
       "      <td>HOU</td>\n",
       "      <td>78.0</td>\n",
       "      <td>2687.0</td>\n",
       "      <td>14.3</td>\n",
       "      <td>0.662</td>\n",
       "      <td>0.489</td>\n",
       "      <td>...</td>\n",
       "      <td>2.4</td>\n",
       "      <td>0.1</td>\n",
       "      <td>0.420</td>\n",
       "      <td>0.572</td>\n",
       "      <td>0.896</td>\n",
       "      <td>4.7</td>\n",
       "      <td>-0.9</td>\n",
       "      <td>3.8</td>\n",
       "      <td>2.079266</td>\n",
       "      <td>0</td>\n",
       "    </tr>\n",
       "  </tbody>\n",
       "</table>\n",
       "<p>5 rows × 32 columns</p>\n",
       "</div>"
      ],
      "text/plain": [
       "   Year           Player Pos   Age   Tm     G      MP   PER    TS%   3PAr  \\\n",
       "1  1997        Vinny Del  SG  30.0  SAS  72.0  2243.0  14.4  0.529  0.179   \n",
       "3  1997    Avery Johnson  PG  31.0  SAS  76.0  2472.0  15.0  0.517  0.038   \n",
       "7  1997  Charles Barkley  PF  33.0  HOU  53.0  2009.0  23.0  0.581  0.296   \n",
       "8  1997    Clyde Drexler  SG  34.0  HOU  62.0  2271.0  19.9  0.548  0.373   \n",
       "9  1997       Mario Elie  SF  33.0  HOU  78.0  2687.0  14.3  0.662  0.489   \n",
       "\n",
       "   ...  OBPM  DBPM    3P%    2P%    FT%  TmNetRtg  Next Rtg  Next WS  \\\n",
       "1  ...   0.6  -2.3  0.314  0.501  0.868      -8.8       4.4      3.7   \n",
       "3  ...  -0.2  -3.0  0.231  0.487  0.690      -8.8       4.4      6.7   \n",
       "7  ...   4.4   2.8  0.283  0.569  0.694       4.7      -0.9      8.6   \n",
       "8  ...   3.9   1.7  0.355  0.493  0.750       4.7      -0.9      6.8   \n",
       "9  ...   2.4   0.1  0.420  0.572  0.896       4.7      -0.9      3.8   \n",
       "\n",
       "   Veteran Value  VV Class  \n",
       "1    2903.225806         0  \n",
       "3   14558.823529         0  \n",
       "7      14.000000         0  \n",
       "8       7.423895         0  \n",
       "9       2.079266         0  \n",
       "\n",
       "[5 rows x 32 columns]"
      ]
     },
     "execution_count": 404,
     "metadata": {},
     "output_type": "execute_result"
    }
   ],
   "source": [
    "df.head()"
   ]
  },
  {
   "cell_type": "markdown",
   "metadata": {},
   "source": [
    "### Relationship between Decline and Features¶"
   ]
  },
  {
   "cell_type": "code",
   "execution_count": 405,
   "metadata": {},
   "outputs": [
    {
     "data": {
      "image/png": "[encoded data removed]",
      "text/plain": [
       "<Figure size 432x288 with 1 Axes>"
      ]
     },
     "metadata": {
      "needs_background": "light"
     },
     "output_type": "display_data"
    },
    {
     "data": {
      "image/png": "[encoded data removed]",
      "text/plain": [
       "<Figure size 432x288 with 1 Axes>"
      ]
     },
     "metadata": {
      "needs_background": "light"
     },
     "output_type": "display_data"
    },
    {
     "data": {
      "image/png": "[encoded data removed]",
      "text/plain": [
       "<Figure size 432x288 with 1 Axes>"
      ]
     },
     "metadata": {
      "needs_background": "light"
     },
     "output_type": "display_data"
    },
    {
     "data": {
      "image/png": "[encoded data removed]",
      "text/plain": [
       "<Figure size 432x288 with 1 Axes>"
      ]
     },
     "metadata": {
      "needs_background": "light"
     },
     "output_type": "display_data"
    },
    {
     "data": {
      "image/png": "[encoded data removed]",
      "text/plain": [
       "<Figure size 432x288 with 1 Axes>"
      ]
     },
     "metadata": {
      "needs_background": "light"
     },
     "output_type": "display_data"
    },
    {
     "data": {
      "image/png": "[encoded data removed]",
      "text/plain": [
       "<Figure size 432x288 with 1 Axes>"
      ]
     },
     "metadata": {
      "needs_background": "light"
     },
     "output_type": "display_data"
    },
    {
     "data": {
      "image/png": "[encoded data removed]",
      "text/plain": [
       "<Figure size 432x288 with 1 Axes>"
      ]
     },
     "metadata": {
      "needs_background": "light"
     },
     "output_type": "display_data"
    },
    {
     "data": {
      "image/png": "[encoded data removed]",
      "text/plain": [
       "<Figure size 432x288 with 1 Axes>"
      ]
     },
     "metadata": {
      "needs_background": "light"
     },
     "output_type": "display_data"
    },
    {
     "data": {
      "image/png": "[encoded data removed]",
      "text/plain": [
       "<Figure size 432x288 with 1 Axes>"
      ]
     },
     "metadata": {
      "needs_background": "light"
     },
     "output_type": "display_data"
    },
    {
     "data": {
      "image/png": "[encoded data removed]",
      "text/plain": [
       "<Figure size 432x288 with 1 Axes>"
      ]
     },
     "metadata": {
      "needs_background": "light"
     },
     "output_type": "display_data"
    },
    {
     "data": {
      "image/png": "[encoded data removed]",
      "text/plain": [
       "<Figure size 432x288 with 1 Axes>"
      ]
     },
     "metadata": {
      "needs_background": "light"
     },
     "output_type": "display_data"
    },
    {
     "data": {
      "image/png": "[encoded data removed]",
      "text/plain": [
       "<Figure size 432x288 with 1 Axes>"
      ]
     },
     "metadata": {
      "needs_background": "light"
     },
     "output_type": "display_data"
    },
    {
     "data": {
      "image/png": "[encoded data removed]",
      "text/plain": [
       "<Figure size 432x288 with 1 Axes>"
      ]
     },
     "metadata": {
      "needs_background": "light"
     },
     "output_type": "display_data"
    },
    {
     "data": {
      "image/png": "[encoded data removed]",
      "text/plain": [
       "<Figure size 432x288 with 1 Axes>"
      ]
     },
     "metadata": {
      "needs_background": "light"
     },
     "output_type": "display_data"
    },
    {
     "data": {
      "image/png": "[encoded data removed]",
      "text/plain": [
       "<Figure size 432x288 with 1 Axes>"
      ]
     },
     "metadata": {
      "needs_background": "light"
     },
     "output_type": "display_data"
    },
    {
     "data": {
      "image/png": "[encoded data removed]",
      "text/plain": [
       "<Figure size 432x288 with 1 Axes>"
      ]
     },
     "metadata": {
      "needs_background": "light"
     },
     "output_type": "display_data"
    },
    {
     "data": {
      "image/png": "[encoded data removed]",
      "text/plain": [
       "<Figure size 432x288 with 1 Axes>"
      ]
     },
     "metadata": {
      "needs_background": "light"
     },
     "output_type": "display_data"
    },
    {
     "data": {
      "image/png": "[encoded data removed]",
      "text/plain": [
       "<Figure size 432x288 with 1 Axes>"
      ]
     },
     "metadata": {
      "needs_background": "light"
     },
     "output_type": "display_data"
    },
    {
     "data": {
      "image/png": "[encoded data removed]",
      "text/plain": [
       "<Figure size 432x288 with 1 Axes>"
      ]
     },
     "metadata": {
      "needs_background": "light"
     },
     "output_type": "display_data"
    },
    {
     "data": {
      "image/png": "[encoded data removed]",
      "text/plain": [
       "<Figure size 432x288 with 1 Axes>"
      ]
     },
     "metadata": {
      "needs_background": "light"
     },
     "output_type": "display_data"
    },
    {
     "data": {
      "image/png": "[encoded data removed]",
      "text/plain": [
       "<Figure size 432x288 with 1 Axes>"
      ]
     },
     "metadata": {
      "needs_background": "light"
     },
     "output_type": "display_data"
    },
    {
     "data": {
      "image/png": "[encoded data removed]",
      "text/plain": [
       "<Figure size 432x288 with 1 Axes>"
      ]
     },
     "metadata": {
      "needs_background": "light"
     },
     "output_type": "display_data"
    },
    {
     "data": {
      "image/png": "[encoded data removed]",
      "text/plain": [
       "<Figure size 432x288 with 1 Axes>"
      ]
     },
     "metadata": {
      "needs_background": "light"
     },
     "output_type": "display_data"
    },
    {
     "data": {
      "image/png": "[encoded data removed]",
      "text/plain": [
       "<Figure size 432x288 with 1 Axes>"
      ]
     },
     "metadata": {
      "needs_background": "light"
     },
     "output_type": "display_data"
    },
    {
     "data": {
      "image/png": "[encoded data removed]",
      "text/plain": [
       "<Figure size 432x288 with 1 Axes>"
      ]
     },
     "metadata": {
      "needs_background": "light"
     },
     "output_type": "display_data"
    },
    {
     "data": {
      "image/png": "[encoded data removed]",
      "text/plain": [
       "<Figure size 432x288 with 1 Axes>"
      ]
     },
     "metadata": {
      "needs_background": "light"
     },
     "output_type": "display_data"
    },
    {
     "data": {
      "image/png": "[encoded data removed]",
      "text/plain": [
       "<Figure size 432x288 with 1 Axes>"
      ]
     },
     "metadata": {
      "needs_background": "light"
     },
     "output_type": "display_data"
    },
    {
     "data": {
      "image/png": "[encoded data removed]",
      "text/plain": [
       "<Figure size 432x288 with 1 Axes>"
      ]
     },
     "metadata": {
      "needs_background": "light"
     },
     "output_type": "display_data"
    },
    {
     "data": {
      "image/png": "[encoded data removed]",
      "text/plain": [
       "<Figure size 432x288 with 1 Axes>"
      ]
     },
     "metadata": {
      "needs_background": "light"
     },
     "output_type": "display_data"
    }
   ],
   "source": [
    "label = df['VV Class']\n",
    "for c in df.columns:\n",
    "    try:\n",
    "        feature = list(df[c])\n",
    "\n",
    "        z = list(zip(feature, label))\n",
    "        z = sorted(z, key=lambda t: t[0])\n",
    "\n",
    "        X = [t[0] for t in z]\n",
    "        X = np.array(X).reshape(-1, 1)\n",
    "        y = [t[1] for t in z]\n",
    "\n",
    "        clf = LogisticRegression(random_state=0).fit(X, y)\n",
    "        yg = clf.predict_proba(X)[:, 1]\n",
    "\n",
    "        plt.title('%s vs Probability of Decline'%(c))\n",
    "        plt.plot(X, yg)\n",
    "        ax = plt.gca()\n",
    "        ax.set_ylim([0, 1])\n",
    "        plt.show()\n",
    "    except:\n",
    "        continue"
   ]
  },
  {
   "cell_type": "markdown",
   "metadata": {},
   "source": [
    "### Visualizing Distribution of Veteran Value"
   ]
  },
  {
   "cell_type": "code",
   "execution_count": 406,
   "metadata": {},
   "outputs": [
    {
     "data": {
      "image/png": "[encoded data removed]",
      "text/plain": [
       "<Figure size 432x288 with 1 Axes>"
      ]
     },
     "metadata": {
      "needs_background": "light"
     },
     "output_type": "display_data"
    }
   ],
   "source": [
    "ax = plt.hist(df['Veteran Value'], bins=40)\n",
    "ax = plt.xlabel('Veteran Value', fontsize=16)\n",
    "ax = plt.ylabel('Individual Player Seasons', fontsize=16)\n",
    "ax = plt.xticks(fontsize=12)\n",
    "ax = plt.yticks(fontsize=12)"
   ]
  },
  {
   "cell_type": "code",
   "execution_count": 407,
   "metadata": {},
   "outputs": [],
   "source": [
    "def outlier_aware_hist(data, lower=None, upper=None):\n",
    "    if not lower or lower < data.min():\n",
    "        lower = data.min()\n",
    "        lower_outliers = False\n",
    "    else:\n",
    "        lower_outliers = True\n",
    "\n",
    "    if not upper or upper > data.max():\n",
    "        upper = data.max()\n",
    "        upper_outliers = False\n",
    "    else:\n",
    "        upper_outliers = True\n",
    "\n",
    "    n, bins, patches = plt.hist(data, range=(lower, upper), bins='auto')\n",
    "\n",
    "    if lower_outliers:\n",
    "        n_lower_outliers = (data < lower).sum()\n",
    "        patches[0].set_height(patches[0].get_height() + n_lower_outliers)\n",
    "        patches[0].set_facecolor('c')\n",
    "        patches[0].set_label('Lower outliers: ({:.2f}, {:.2f})'.format(data.min(), lower))\n",
    "\n",
    "    if upper_outliers:\n",
    "        n_upper_outliers = (data > upper).sum()\n",
    "        patches[-1].set_height(patches[-1].get_height() + n_upper_outliers)\n",
    "        patches[-1].set_facecolor('m')\n",
    "        patches[-1].set_label('Upper outliers: ({:.2f}, {:.2f})'.format(upper, data.max()))\n",
    "\n",
    "    if lower_outliers or upper_outliers:\n",
    "        plt.legend()\n",
    "    plt.title('Range of Veteran Value')\n",
    "    plt.xlabel('Veteran Value',fontsize=12)\n",
    "    plt.ylabel('Frequency',fontsize=12)"
   ]
  },
  {
   "cell_type": "code",
   "execution_count": 408,
   "metadata": {},
   "outputs": [
    {
     "data": {
      "image/png": "[encoded data removed]",
      "text/plain": [
       "<Figure size 432x288 with 1 Axes>"
      ]
     },
     "metadata": {
      "needs_background": "light"
     },
     "output_type": "display_data"
    }
   ],
   "source": [
    "def mad(data):\n",
    "    median = np.median(data)\n",
    "    diff = np.abs(data - median)\n",
    "    mad = np.median(diff)\n",
    "    return mad\n",
    "\n",
    "def calculate_bounds(data, z_thresh=3.5):\n",
    "    MAD = mad(data)\n",
    "    median = np.median(data)\n",
    "    const = z_thresh * MAD / 0.6745\n",
    "    return (median - const, median + const)\n",
    "\n",
    "outlier_aware_hist(df['Veteran Value'], *calculate_bounds(df['Veteran Value']))"
   ]
  },
  {
   "cell_type": "markdown",
   "metadata": {},
   "source": [
    "The distribution of player decline appears normal, with most of the change centered around 0, which makes sense based on how we calculate decline. However the outliers extend pretty far out to ranges from -6 to -30 and improvement having a range from 6 to 22. While the objective is to find the largest veteran declines, we also want to make sure our formula has a proper distribution, there appears to be too many players in the lower and upper outlier range as indicated by the first and last bin. "
   ]
  },
  {
   "cell_type": "markdown",
   "metadata": {},
   "source": [
    "### Evaluate How Age and Playing Time Affects Veteran Value"
   ]
  },
  {
   "cell_type": "code",
   "execution_count": 409,
   "metadata": {},
   "outputs": [
    {
     "data": {
      "text/plain": [
       "<matplotlib.legend.Legend at 0x7fe797972250>"
      ]
     },
     "execution_count": 409,
     "metadata": {},
     "output_type": "execute_result"
    },
    {
     "data": {
      "image/png": "[encoded data removed]",
      "text/plain": [
       "<Figure size 432x288 with 1 Axes>"
      ]
     },
     "metadata": {
      "needs_background": "light"
     },
     "output_type": "display_data"
    }
   ],
   "source": [
    "# Separate players into Veteran(30-34) and Veteran_Mins(>=35). \n",
    "#Veteran_Mins are old players who typically sign for the minimum\n",
    "veteran = df.loc[(df['Age']>=30) & (df['Age']<35), 'Veteran Value']\n",
    "veteran_mins = df.loc[df['Age']>=35, 'Veteran Value']\n",
    "plot_data = [veteran, veteran_mins]\n",
    "labels = ['Veteran(30-34)','Veteran_Mins(>34)']\n",
    "colors = ['red','blue']\n",
    "# Histogram\n",
    "#ax = plt.figure(figsize=(8,6))\n",
    "ax = plt.gca()\n",
    "ax.set_ylim([0,10])\n",
    "for group, label, color in zip(plot_data, labels, colors):\n",
    "    _ = plt.hist(group, bins=40, alpha=0.5, label=label, color=color)\n",
    "plt.xlabel('Veteran Value', fontsize=14)\n",
    "plt.ylabel('# of Players/Seasons', fontsize=14)\n",
    "plt.legend(fontsize=12)"
   ]
  },
  {
   "cell_type": "code",
   "execution_count": 410,
   "metadata": {},
   "outputs": [
    {
     "data": {
      "text/html": [
       "<div>\n",
       "<style scoped>\n",
       "    .dataframe tbody tr th:only-of-type {\n",
       "        vertical-align: middle;\n",
       "    }\n",
       "\n",
       "    .dataframe tbody tr th {\n",
       "        vertical-align: top;\n",
       "    }\n",
       "\n",
       "    .dataframe thead th {\n",
       "        text-align: right;\n",
       "    }\n",
       "</style>\n",
       "<table border=\"1\" class=\"dataframe\">\n",
       "  <thead>\n",
       "    <tr style=\"text-align: right;\">\n",
       "      <th></th>\n",
       "      <th>Year</th>\n",
       "      <th>Player</th>\n",
       "      <th>Pos</th>\n",
       "      <th>Age</th>\n",
       "      <th>Tm</th>\n",
       "      <th>G</th>\n",
       "      <th>MP</th>\n",
       "      <th>PER</th>\n",
       "      <th>TS%</th>\n",
       "      <th>3PAr</th>\n",
       "      <th>...</th>\n",
       "      <th>OBPM</th>\n",
       "      <th>DBPM</th>\n",
       "      <th>3P%</th>\n",
       "      <th>2P%</th>\n",
       "      <th>FT%</th>\n",
       "      <th>TmNetRtg</th>\n",
       "      <th>Next Rtg</th>\n",
       "      <th>Next WS</th>\n",
       "      <th>Veteran Value</th>\n",
       "      <th>VV Class</th>\n",
       "    </tr>\n",
       "  </thead>\n",
       "  <tbody>\n",
       "    <tr>\n",
       "      <th>1</th>\n",
       "      <td>1997</td>\n",
       "      <td>Vinny Del</td>\n",
       "      <td>SG</td>\n",
       "      <td>30.0</td>\n",
       "      <td>SAS</td>\n",
       "      <td>72.0</td>\n",
       "      <td>2243.0</td>\n",
       "      <td>14.4</td>\n",
       "      <td>0.529</td>\n",
       "      <td>0.179</td>\n",
       "      <td>...</td>\n",
       "      <td>0.6</td>\n",
       "      <td>-2.3</td>\n",
       "      <td>0.314</td>\n",
       "      <td>0.501</td>\n",
       "      <td>0.868</td>\n",
       "      <td>-8.8</td>\n",
       "      <td>4.4</td>\n",
       "      <td>3.7</td>\n",
       "      <td>2903.225806</td>\n",
       "      <td>0</td>\n",
       "    </tr>\n",
       "    <tr>\n",
       "      <th>3</th>\n",
       "      <td>1997</td>\n",
       "      <td>Avery Johnson</td>\n",
       "      <td>PG</td>\n",
       "      <td>31.0</td>\n",
       "      <td>SAS</td>\n",
       "      <td>76.0</td>\n",
       "      <td>2472.0</td>\n",
       "      <td>15.0</td>\n",
       "      <td>0.517</td>\n",
       "      <td>0.038</td>\n",
       "      <td>...</td>\n",
       "      <td>-0.2</td>\n",
       "      <td>-3.0</td>\n",
       "      <td>0.231</td>\n",
       "      <td>0.487</td>\n",
       "      <td>0.690</td>\n",
       "      <td>-8.8</td>\n",
       "      <td>4.4</td>\n",
       "      <td>6.7</td>\n",
       "      <td>14558.823529</td>\n",
       "      <td>0</td>\n",
       "    </tr>\n",
       "    <tr>\n",
       "      <th>29</th>\n",
       "      <td>1997</td>\n",
       "      <td>Blue Edwards</td>\n",
       "      <td>SF</td>\n",
       "      <td>31.0</td>\n",
       "      <td>VAN</td>\n",
       "      <td>61.0</td>\n",
       "      <td>1439.0</td>\n",
       "      <td>10.0</td>\n",
       "      <td>0.472</td>\n",
       "      <td>0.194</td>\n",
       "      <td>...</td>\n",
       "      <td>-3.2</td>\n",
       "      <td>-1.8</td>\n",
       "      <td>0.281</td>\n",
       "      <td>0.425</td>\n",
       "      <td>0.817</td>\n",
       "      <td>-11.0</td>\n",
       "      <td>-7.8</td>\n",
       "      <td>2.1</td>\n",
       "      <td>64000.000000</td>\n",
       "      <td>0</td>\n",
       "    </tr>\n",
       "    <tr>\n",
       "      <th>30</th>\n",
       "      <td>1997</td>\n",
       "      <td>Dale Ellis</td>\n",
       "      <td>SF</td>\n",
       "      <td>36.0</td>\n",
       "      <td>DEN</td>\n",
       "      <td>82.0</td>\n",
       "      <td>2940.0</td>\n",
       "      <td>12.9</td>\n",
       "      <td>0.537</td>\n",
       "      <td>0.459</td>\n",
       "      <td>...</td>\n",
       "      <td>1.6</td>\n",
       "      <td>-2.6</td>\n",
       "      <td>0.364</td>\n",
       "      <td>0.457</td>\n",
       "      <td>0.817</td>\n",
       "      <td>-6.6</td>\n",
       "      <td>7.9</td>\n",
       "      <td>6.0</td>\n",
       "      <td>20552.297165</td>\n",
       "      <td>0</td>\n",
       "    </tr>\n",
       "    <tr>\n",
       "      <th>31</th>\n",
       "      <td>1997</td>\n",
       "      <td>Mark Jackson</td>\n",
       "      <td>PG</td>\n",
       "      <td>31.0</td>\n",
       "      <td>DEN</td>\n",
       "      <td>52.0</td>\n",
       "      <td>2001.0</td>\n",
       "      <td>16.2</td>\n",
       "      <td>0.528</td>\n",
       "      <td>0.268</td>\n",
       "      <td>...</td>\n",
       "      <td>1.2</td>\n",
       "      <td>-2.4</td>\n",
       "      <td>0.397</td>\n",
       "      <td>0.435</td>\n",
       "      <td>0.801</td>\n",
       "      <td>-6.6</td>\n",
       "      <td>6.8</td>\n",
       "      <td>7.5</td>\n",
       "      <td>17765.151515</td>\n",
       "      <td>0</td>\n",
       "    </tr>\n",
       "    <tr>\n",
       "      <th>...</th>\n",
       "      <td>...</td>\n",
       "      <td>...</td>\n",
       "      <td>...</td>\n",
       "      <td>...</td>\n",
       "      <td>...</td>\n",
       "      <td>...</td>\n",
       "      <td>...</td>\n",
       "      <td>...</td>\n",
       "      <td>...</td>\n",
       "      <td>...</td>\n",
       "      <td>...</td>\n",
       "      <td>...</td>\n",
       "      <td>...</td>\n",
       "      <td>...</td>\n",
       "      <td>...</td>\n",
       "      <td>...</td>\n",
       "      <td>...</td>\n",
       "      <td>...</td>\n",
       "      <td>...</td>\n",
       "      <td>...</td>\n",
       "      <td>...</td>\n",
       "    </tr>\n",
       "    <tr>\n",
       "      <th>1382</th>\n",
       "      <td>2020</td>\n",
       "      <td>Kent Bazemore</td>\n",
       "      <td>SF</td>\n",
       "      <td>30.0</td>\n",
       "      <td>POR</td>\n",
       "      <td>43.0</td>\n",
       "      <td>1111.0</td>\n",
       "      <td>7.5</td>\n",
       "      <td>0.475</td>\n",
       "      <td>0.525</td>\n",
       "      <td>...</td>\n",
       "      <td>-3.6</td>\n",
       "      <td>0.4</td>\n",
       "      <td>0.327</td>\n",
       "      <td>0.368</td>\n",
       "      <td>0.806</td>\n",
       "      <td>-1.1</td>\n",
       "      <td>1.1</td>\n",
       "      <td>1.8</td>\n",
       "      <td>200000.000000</td>\n",
       "      <td>0</td>\n",
       "    </tr>\n",
       "    <tr>\n",
       "      <th>1393</th>\n",
       "      <td>2020</td>\n",
       "      <td>Mike Conley</td>\n",
       "      <td>PG</td>\n",
       "      <td>32.0</td>\n",
       "      <td>UTA</td>\n",
       "      <td>47.0</td>\n",
       "      <td>1363.0</td>\n",
       "      <td>14.1</td>\n",
       "      <td>0.537</td>\n",
       "      <td>0.451</td>\n",
       "      <td>...</td>\n",
       "      <td>0.7</td>\n",
       "      <td>-0.4</td>\n",
       "      <td>0.375</td>\n",
       "      <td>0.437</td>\n",
       "      <td>0.827</td>\n",
       "      <td>2.5</td>\n",
       "      <td>9.0</td>\n",
       "      <td>6.1</td>\n",
       "      <td>37440.000000</td>\n",
       "      <td>0</td>\n",
       "    </tr>\n",
       "    <tr>\n",
       "      <th>1394</th>\n",
       "      <td>2020</td>\n",
       "      <td>Joe Ingles</td>\n",
       "      <td>SF</td>\n",
       "      <td>32.0</td>\n",
       "      <td>UTA</td>\n",
       "      <td>72.0</td>\n",
       "      <td>2137.0</td>\n",
       "      <td>12.6</td>\n",
       "      <td>0.595</td>\n",
       "      <td>0.638</td>\n",
       "      <td>...</td>\n",
       "      <td>0.0</td>\n",
       "      <td>0.7</td>\n",
       "      <td>0.399</td>\n",
       "      <td>0.525</td>\n",
       "      <td>0.787</td>\n",
       "      <td>2.5</td>\n",
       "      <td>9.0</td>\n",
       "      <td>7.0</td>\n",
       "      <td>11916.666667</td>\n",
       "      <td>0</td>\n",
       "    </tr>\n",
       "    <tr>\n",
       "      <th>1403</th>\n",
       "      <td>2020</td>\n",
       "      <td>Marcus Morris</td>\n",
       "      <td>SF</td>\n",
       "      <td>30.0</td>\n",
       "      <td>NYK</td>\n",
       "      <td>43.0</td>\n",
       "      <td>1387.0</td>\n",
       "      <td>16.5</td>\n",
       "      <td>0.582</td>\n",
       "      <td>0.415</td>\n",
       "      <td>...</td>\n",
       "      <td>1.8</td>\n",
       "      <td>-1.1</td>\n",
       "      <td>0.439</td>\n",
       "      <td>0.444</td>\n",
       "      <td>0.823</td>\n",
       "      <td>-6.5</td>\n",
       "      <td>6.1</td>\n",
       "      <td>3.6</td>\n",
       "      <td>4679.045093</td>\n",
       "      <td>0</td>\n",
       "    </tr>\n",
       "    <tr>\n",
       "      <th>1422</th>\n",
       "      <td>2020</td>\n",
       "      <td>Thaddeus Young</td>\n",
       "      <td>PF</td>\n",
       "      <td>31.0</td>\n",
       "      <td>CHI</td>\n",
       "      <td>64.0</td>\n",
       "      <td>1591.0</td>\n",
       "      <td>13.3</td>\n",
       "      <td>0.521</td>\n",
       "      <td>0.369</td>\n",
       "      <td>...</td>\n",
       "      <td>-1.4</td>\n",
       "      <td>0.2</td>\n",
       "      <td>0.356</td>\n",
       "      <td>0.501</td>\n",
       "      <td>0.583</td>\n",
       "      <td>-3.1</td>\n",
       "      <td>-1.1</td>\n",
       "      <td>5.1</td>\n",
       "      <td>10865.874363</td>\n",
       "      <td>0</td>\n",
       "    </tr>\n",
       "  </tbody>\n",
       "</table>\n",
       "<p>136 rows × 32 columns</p>\n",
       "</div>"
      ],
      "text/plain": [
       "      Year          Player Pos   Age   Tm     G      MP   PER    TS%   3PAr  \\\n",
       "1     1997       Vinny Del  SG  30.0  SAS  72.0  2243.0  14.4  0.529  0.179   \n",
       "3     1997   Avery Johnson  PG  31.0  SAS  76.0  2472.0  15.0  0.517  0.038   \n",
       "29    1997    Blue Edwards  SF  31.0  VAN  61.0  1439.0  10.0  0.472  0.194   \n",
       "30    1997      Dale Ellis  SF  36.0  DEN  82.0  2940.0  12.9  0.537  0.459   \n",
       "31    1997    Mark Jackson  PG  31.0  DEN  52.0  2001.0  16.2  0.528  0.268   \n",
       "...    ...             ...  ..   ...  ...   ...     ...   ...    ...    ...   \n",
       "1382  2020   Kent Bazemore  SF  30.0  POR  43.0  1111.0   7.5  0.475  0.525   \n",
       "1393  2020     Mike Conley  PG  32.0  UTA  47.0  1363.0  14.1  0.537  0.451   \n",
       "1394  2020      Joe Ingles  SF  32.0  UTA  72.0  2137.0  12.6  0.595  0.638   \n",
       "1403  2020   Marcus Morris  SF  30.0  NYK  43.0  1387.0  16.5  0.582  0.415   \n",
       "1422  2020  Thaddeus Young  PF  31.0  CHI  64.0  1591.0  13.3  0.521  0.369   \n",
       "\n",
       "      ...  OBPM  DBPM    3P%    2P%    FT%  TmNetRtg  Next Rtg  Next WS  \\\n",
       "1     ...   0.6  -2.3  0.314  0.501  0.868      -8.8       4.4      3.7   \n",
       "3     ...  -0.2  -3.0  0.231  0.487  0.690      -8.8       4.4      6.7   \n",
       "29    ...  -3.2  -1.8  0.281  0.425  0.817     -11.0      -7.8      2.1   \n",
       "30    ...   1.6  -2.6  0.364  0.457  0.817      -6.6       7.9      6.0   \n",
       "31    ...   1.2  -2.4  0.397  0.435  0.801      -6.6       6.8      7.5   \n",
       "...   ...   ...   ...    ...    ...    ...       ...       ...      ...   \n",
       "1382  ...  -3.6   0.4  0.327  0.368  0.806      -1.1       1.1      1.8   \n",
       "1393  ...   0.7  -0.4  0.375  0.437  0.827       2.5       9.0      6.1   \n",
       "1394  ...   0.0   0.7  0.399  0.525  0.787       2.5       9.0      7.0   \n",
       "1403  ...   1.8  -1.1  0.439  0.444  0.823      -6.5       6.1      3.6   \n",
       "1422  ...  -1.4   0.2  0.356  0.501  0.583      -3.1      -1.1      5.1   \n",
       "\n",
       "      Veteran Value  VV Class  \n",
       "1       2903.225806         0  \n",
       "3      14558.823529         0  \n",
       "29     64000.000000         0  \n",
       "30     20552.297165         0  \n",
       "31     17765.151515         0  \n",
       "...             ...       ...  \n",
       "1382  200000.000000         0  \n",
       "1393   37440.000000         0  \n",
       "1394   11916.666667         0  \n",
       "1403    4679.045093         0  \n",
       "1422   10865.874363         0  \n",
       "\n",
       "[136 rows x 32 columns]"
      ]
     },
     "execution_count": 410,
     "metadata": {},
     "output_type": "execute_result"
    }
   ],
   "source": [
    "df.loc[(df['Veteran Value'] >2000)]"
   ]
  },
  {
   "cell_type": "code",
   "execution_count": 411,
   "metadata": {},
   "outputs": [],
   "source": [
    "def ztest(d1, d2, label):\n",
    "    from statsmodels.stats.weightstats import CompareMeans\n",
    "    test_data = CompareMeans.from_data(d1, d2)\n",
    "    z, p = CompareMeans.ztest_ind(test_data)\n",
    "    print('For {}, z = {}, p = {}'.format(label,z,p))"
   ]
  },
  {
   "cell_type": "code",
   "execution_count": 412,
   "metadata": {},
   "outputs": [
    {
     "name": "stdout",
     "output_type": "stream",
     "text": [
      "For Veterans vs Old Veterans, z = 1.1448942515521208, p = 0.2522529655237762\n",
      "The average improvement for veterans were 4823.195211636843\n",
      "The average improvement for old veterans were 1908.120508513093\n"
     ]
    }
   ],
   "source": [
    "ztest(veteran, veteran_mins, 'Veterans vs Old Veterans')\n",
    "print('The average improvement for veterans were', veteran.mean())\n",
    "print('The average improvement for old veterans were', veteran_mins.mean())"
   ]
  },
  {
   "cell_type": "markdown",
   "metadata": {},
   "source": [
    "There appears to be a much larger distribution of decline amongst veteran players compared to older veterans. This is expected, as most player are already past their prime by the age of 35. Furthermore, the ztest shows the affect of decline between veterans and old veterans is statistically insignificant."
   ]
  },
  {
   "cell_type": "code",
   "execution_count": 413,
   "metadata": {},
   "outputs": [
    {
     "data": {
      "text/plain": [
       "<matplotlib.legend.Legend at 0x7fe7977fee80>"
      ]
     },
     "execution_count": 413,
     "metadata": {},
     "output_type": "execute_result"
    },
    {
     "data": {
      "image/png": "[encoded data removed]",
      "text/plain": [
       "<Figure size 432x288 with 1 Axes>"
      ]
     },
     "metadata": {
      "needs_background": "light"
     },
     "output_type": "display_data"
    }
   ],
   "source": [
    "# Separate data into good starters and good bench\n",
    "good_starters = df.loc[(df['WS/48']>=0.1) & (df['MP']/df['G']>25), 'Veteran Value']\n",
    "good_bench = df.loc[(df['WS/48']>=0.1) & (df['MP']/df['G']<=25), 'Veteran Value']\n",
    "ax = plt.hist(good_starters, bins=20, alpha=0.5, label='Good Starters')\n",
    "ax = plt.hist(good_bench, bins=20, alpha=0.5, label='Good Bench Players')\n",
    "plt.xlabel('Veteran Value', fontsize=14)\n",
    "plt.ylabel('# of Players/Seasons', fontsize=14)\n",
    "plt.legend(fontsize=12)"
   ]
  },
  {
   "cell_type": "code",
   "execution_count": 414,
   "metadata": {},
   "outputs": [
    {
     "name": "stdout",
     "output_type": "stream",
     "text": [
      "For Good Starters vs Good Bench, z = 0.5945168580225305, p = 0.5521664703654796\n",
      "The average improvement for good starters were 1176.777020439957\n",
      "The average improvement for good bench players were 165.3334875465502\n"
     ]
    }
   ],
   "source": [
    "\n",
    "ztest(good_starters, good_bench, 'Good Starters vs Good Bench')\n",
    "print('The average improvement for good starters were', good_starters.mean())\n",
    "print('The average improvement for good bench players were', good_bench.mean())"
   ]
  },
  {
   "cell_type": "markdown",
   "metadata": {},
   "source": [
    "The results for this are more interesting, there appears to be a significant impact on decline when a player is a starter vs a bench player. We can infer that there might need to be an additional target class identifier between what we define as bench players compared to starter players."
   ]
  },
  {
   "cell_type": "code",
   "execution_count": 425,
   "metadata": {},
   "outputs": [
    {
     "name": "stderr",
     "output_type": "stream",
     "text": [
      "<ipython-input-425-afc74e713a1a>:14: SettingWithCopyWarning: \n",
      "A value is trying to be set on a copy of a slice from a DataFrame.\n",
      "Try using .loc[row_indexer,col_indexer] = value instead\n",
      "\n",
      "See the caveats in the documentation: https://pandas.pydata.org/pandas-docs/stable/user_guide/indexing.html#returning-a-view-versus-a-copy\n",
      "  df['Player Level'] = player_level\n"
     ]
    }
   ],
   "source": [
    "starter = df.loc[(df['WS/48']>=0.1) & (df['MP']/df['G']>25),'Player']\n",
    "all_star = df.loc[(df['WS/48']>=0.15) & (df['MP']/df['G']>30) & (df['USG%'] > 20),'Player']\n",
    "super_star = df.loc[(df['WS/48']>=0.15) & (df['MP']/df['G']>30) & (df['USG%'] > 30),'Player']\n",
    "player_level = []\n",
    "for p in df['Player']:\n",
    "    if p in list(super_star):\n",
    "        player_level.append(3)\n",
    "    elif p in list(all_star) and p not in list(super_star):\n",
    "        player_level.append(2)\n",
    "    elif p in list(starter) and p not in list(super_star) and p not in list(all_star):\n",
    "        player_level.append(1)\n",
    "    else:\n",
    "        player_level.append(0)\n",
    "df['Player Level'] = player_level"
   ]
  },
  {
   "cell_type": "code",
   "execution_count": 430,
   "metadata": {},
   "outputs": [],
   "source": [
    "df.to_csv('model_data.csv')"
   ]
  },
  {
   "cell_type": "code",
   "execution_count": null,
   "metadata": {},
   "outputs": [],
   "source": []
  }
 ],
 "metadata": {
  "kernelspec": {
   "display_name": "Python 3",
   "language": "python",
   "name": "python3"
  },
  "language_info": {
   "codemirror_mode": {
    "name": "ipython",
    "version": 3
   },
   "file_extension": ".py",
   "mimetype": "text/x-python",
   "name": "python",
   "nbconvert_exporter": "python",
   "pygments_lexer": "ipython3",
   "version": "3.8.3"
  }
 },
 "nbformat": 4,
 "nbformat_minor": 4
}
