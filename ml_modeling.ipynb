{
 "cells": [
  {
   "cell_type": "code",
   "execution_count": 365,
   "metadata": {},
   "outputs": [],
   "source": [
    "import pandas as pd\n",
    "import numpy as np\n",
    "import sklearn\n",
    "import math\n",
    "import matplotlib.pyplot as plt"
   ]
  },
  {
   "cell_type": "code",
   "execution_count": 366,
   "metadata": {},
   "outputs": [],
   "source": [
    "df = pd.read_csv('model_data.csv')"
   ]
  },
  {
   "cell_type": "code",
   "execution_count": 367,
   "metadata": {},
   "outputs": [
    {
     "data": {
      "text/html": [
       "<div>\n",
       "<style scoped>\n",
       "    .dataframe tbody tr th:only-of-type {\n",
       "        vertical-align: middle;\n",
       "    }\n",
       "\n",
       "    .dataframe tbody tr th {\n",
       "        vertical-align: top;\n",
       "    }\n",
       "\n",
       "    .dataframe thead th {\n",
       "        text-align: right;\n",
       "    }\n",
       "</style>\n",
       "<table border=\"1\" class=\"dataframe\">\n",
       "  <thead>\n",
       "    <tr style=\"text-align: right;\">\n",
       "      <th></th>\n",
       "      <th>Unnamed: 0</th>\n",
       "      <th>Year</th>\n",
       "      <th>Player</th>\n",
       "      <th>Pos</th>\n",
       "      <th>Age</th>\n",
       "      <th>Tm</th>\n",
       "      <th>G</th>\n",
       "      <th>MP</th>\n",
       "      <th>PER</th>\n",
       "      <th>TS%</th>\n",
       "      <th>...</th>\n",
       "      <th>DBPM</th>\n",
       "      <th>3P%</th>\n",
       "      <th>2P%</th>\n",
       "      <th>FT%</th>\n",
       "      <th>TmNetRtg</th>\n",
       "      <th>Next Rtg</th>\n",
       "      <th>Next WS</th>\n",
       "      <th>Veteran Value</th>\n",
       "      <th>VV Class</th>\n",
       "      <th>Starters</th>\n",
       "    </tr>\n",
       "  </thead>\n",
       "  <tbody>\n",
       "    <tr>\n",
       "      <th>0</th>\n",
       "      <td>1</td>\n",
       "      <td>1997</td>\n",
       "      <td>Vinny Del</td>\n",
       "      <td>SG</td>\n",
       "      <td>30.0</td>\n",
       "      <td>SAS</td>\n",
       "      <td>72.0</td>\n",
       "      <td>2243.0</td>\n",
       "      <td>14.4</td>\n",
       "      <td>0.529</td>\n",
       "      <td>...</td>\n",
       "      <td>-2.3</td>\n",
       "      <td>0.314</td>\n",
       "      <td>0.501</td>\n",
       "      <td>0.868</td>\n",
       "      <td>-8.8</td>\n",
       "      <td>4.4</td>\n",
       "      <td>3.7</td>\n",
       "      <td>2903.225806</td>\n",
       "      <td>0</td>\n",
       "      <td>1</td>\n",
       "    </tr>\n",
       "    <tr>\n",
       "      <th>1</th>\n",
       "      <td>3</td>\n",
       "      <td>1997</td>\n",
       "      <td>Avery Johnson</td>\n",
       "      <td>PG</td>\n",
       "      <td>31.0</td>\n",
       "      <td>SAS</td>\n",
       "      <td>76.0</td>\n",
       "      <td>2472.0</td>\n",
       "      <td>15.0</td>\n",
       "      <td>0.517</td>\n",
       "      <td>...</td>\n",
       "      <td>-3.0</td>\n",
       "      <td>0.231</td>\n",
       "      <td>0.487</td>\n",
       "      <td>0.690</td>\n",
       "      <td>-8.8</td>\n",
       "      <td>4.4</td>\n",
       "      <td>6.7</td>\n",
       "      <td>14558.823529</td>\n",
       "      <td>0</td>\n",
       "      <td>1</td>\n",
       "    </tr>\n",
       "    <tr>\n",
       "      <th>2</th>\n",
       "      <td>7</td>\n",
       "      <td>1997</td>\n",
       "      <td>Charles Barkley</td>\n",
       "      <td>PF</td>\n",
       "      <td>33.0</td>\n",
       "      <td>HOU</td>\n",
       "      <td>53.0</td>\n",
       "      <td>2009.0</td>\n",
       "      <td>23.0</td>\n",
       "      <td>0.581</td>\n",
       "      <td>...</td>\n",
       "      <td>2.8</td>\n",
       "      <td>0.283</td>\n",
       "      <td>0.569</td>\n",
       "      <td>0.694</td>\n",
       "      <td>4.7</td>\n",
       "      <td>-0.9</td>\n",
       "      <td>8.6</td>\n",
       "      <td>-1276.595745</td>\n",
       "      <td>1</td>\n",
       "      <td>1</td>\n",
       "    </tr>\n",
       "    <tr>\n",
       "      <th>3</th>\n",
       "      <td>8</td>\n",
       "      <td>1997</td>\n",
       "      <td>Clyde Drexler</td>\n",
       "      <td>SG</td>\n",
       "      <td>34.0</td>\n",
       "      <td>HOU</td>\n",
       "      <td>62.0</td>\n",
       "      <td>2271.0</td>\n",
       "      <td>19.9</td>\n",
       "      <td>0.548</td>\n",
       "      <td>...</td>\n",
       "      <td>1.7</td>\n",
       "      <td>0.355</td>\n",
       "      <td>0.493</td>\n",
       "      <td>0.750</td>\n",
       "      <td>4.7</td>\n",
       "      <td>-0.9</td>\n",
       "      <td>6.8</td>\n",
       "      <td>-2407.407407</td>\n",
       "      <td>1</td>\n",
       "      <td>1</td>\n",
       "    </tr>\n",
       "    <tr>\n",
       "      <th>4</th>\n",
       "      <td>9</td>\n",
       "      <td>1997</td>\n",
       "      <td>Mario Elie</td>\n",
       "      <td>SF</td>\n",
       "      <td>33.0</td>\n",
       "      <td>HOU</td>\n",
       "      <td>78.0</td>\n",
       "      <td>2687.0</td>\n",
       "      <td>14.3</td>\n",
       "      <td>0.662</td>\n",
       "      <td>...</td>\n",
       "      <td>0.1</td>\n",
       "      <td>0.420</td>\n",
       "      <td>0.572</td>\n",
       "      <td>0.896</td>\n",
       "      <td>4.7</td>\n",
       "      <td>-0.9</td>\n",
       "      <td>3.8</td>\n",
       "      <td>-8595.505618</td>\n",
       "      <td>1</td>\n",
       "      <td>1</td>\n",
       "    </tr>\n",
       "  </tbody>\n",
       "</table>\n",
       "<p>5 rows × 34 columns</p>\n",
       "</div>"
      ],
      "text/plain": [
       "   Unnamed: 0  Year           Player Pos   Age   Tm     G      MP   PER  \\\n",
       "0           1  1997        Vinny Del  SG  30.0  SAS  72.0  2243.0  14.4   \n",
       "1           3  1997    Avery Johnson  PG  31.0  SAS  76.0  2472.0  15.0   \n",
       "2           7  1997  Charles Barkley  PF  33.0  HOU  53.0  2009.0  23.0   \n",
       "3           8  1997    Clyde Drexler  SG  34.0  HOU  62.0  2271.0  19.9   \n",
       "4           9  1997       Mario Elie  SF  33.0  HOU  78.0  2687.0  14.3   \n",
       "\n",
       "     TS%  ...  DBPM    3P%    2P%    FT%  TmNetRtg  Next Rtg  Next WS  \\\n",
       "0  0.529  ...  -2.3  0.314  0.501  0.868      -8.8       4.4      3.7   \n",
       "1  0.517  ...  -3.0  0.231  0.487  0.690      -8.8       4.4      6.7   \n",
       "2  0.581  ...   2.8  0.283  0.569  0.694       4.7      -0.9      8.6   \n",
       "3  0.548  ...   1.7  0.355  0.493  0.750       4.7      -0.9      6.8   \n",
       "4  0.662  ...   0.1  0.420  0.572  0.896       4.7      -0.9      3.8   \n",
       "\n",
       "   Veteran Value  VV Class  Starters  \n",
       "0    2903.225806         0         1  \n",
       "1   14558.823529         0         1  \n",
       "2   -1276.595745         1         1  \n",
       "3   -2407.407407         1         1  \n",
       "4   -8595.505618         1         1  \n",
       "\n",
       "[5 rows x 34 columns]"
      ]
     },
     "execution_count": 367,
     "metadata": {},
     "output_type": "execute_result"
    }
   ],
   "source": [
    "df.head()"
   ]
  },
  {
   "cell_type": "markdown",
   "metadata": {},
   "source": [
    "## Pre-Processing"
   ]
  },
  {
   "cell_type": "code",
   "execution_count": 368,
   "metadata": {},
   "outputs": [
    {
     "data": {
      "text/plain": [
       "Index(['Unnamed: 0', 'Year', 'Player', 'Pos', 'Age', 'Tm', 'G', 'MP', 'PER',\n",
       "       'TS%', '3PAr', 'FTr', 'ORB%', 'DRB%', 'AST%', 'STL%', 'BLK%', 'TOV%',\n",
       "       'USG%', 'OWS', 'DWS', 'WS', 'WS/48', 'OBPM', 'DBPM', '3P%', '2P%',\n",
       "       'FT%', 'TmNetRtg', 'Next Rtg', 'Next WS', 'Veteran Value', 'VV Class',\n",
       "       'Starters'],\n",
       "      dtype='object')"
      ]
     },
     "execution_count": 368,
     "metadata": {},
     "output_type": "execute_result"
    }
   ],
   "source": [
    "df.columns"
   ]
  },
  {
   "cell_type": "code",
   "execution_count": 369,
   "metadata": {},
   "outputs": [
    {
     "data": {
      "text/plain": [
       "<AxesSubplot:ylabel='Frequency'>"
      ]
     },
     "execution_count": 369,
     "metadata": {},
     "output_type": "execute_result"
    },
    {
     "data": {
      "image/png": "[encoded data removed]",
      "text/plain": [
       "<Figure size 432x288 with 1 Axes>"
      ]
     },
     "metadata": {
      "needs_background": "light"
     },
     "output_type": "display_data"
    }
   ],
   "source": [
    "df['Veteran Value'].plot.hist(grid=True)"
   ]
  },
  {
   "cell_type": "code",
   "execution_count": 370,
   "metadata": {},
   "outputs": [
    {
     "name": "stdout",
     "output_type": "stream",
     "text": [
      "-63806.593259548616 63843.64009831145\n"
     ]
    }
   ],
   "source": [
    "# calculate summary statistics\n",
    "data = df['Veteran Value']\n",
    "data_mean, data_std = np.mean(data), np.std(data)\n",
    "# identify outliers\n",
    "cut_off = data_std * 3\n",
    "lower, upper = data_mean - cut_off, data_mean + cut_off\n",
    "print(lower, upper)\n",
    "lower, upper = -10000, 10000"
   ]
  },
  {
   "cell_type": "code",
   "execution_count": 371,
   "metadata": {},
   "outputs": [],
   "source": [
    "outliers = [x[0] for x in enumerate(data) if x[1] < lower or x[1] > upper]\n"
   ]
  },
  {
   "cell_type": "code",
   "execution_count": 372,
   "metadata": {},
   "outputs": [],
   "source": [
    "df.drop(index=outliers,inplace=True)"
   ]
  },
  {
   "cell_type": "code",
   "execution_count": 373,
   "metadata": {},
   "outputs": [
    {
     "data": {
      "text/plain": [
       "[]"
      ]
     },
     "execution_count": 373,
     "metadata": {},
     "output_type": "execute_result"
    }
   ],
   "source": [
    "outliers = [x[0] for x in enumerate(df['Veteran Value']) if x[1] < lower or x[1] > upper]\n",
    "outliers"
   ]
  },
  {
   "cell_type": "code",
   "execution_count": 374,
   "metadata": {},
   "outputs": [
    {
     "data": {
      "text/plain": [
       "<AxesSubplot:ylabel='Frequency'>"
      ]
     },
     "execution_count": 374,
     "metadata": {},
     "output_type": "execute_result"
    },
    {
     "data": {
      "image/png": "[encoded data removed]",
      "text/plain": [
       "<Figure size 432x288 with 1 Axes>"
      ]
     },
     "metadata": {
      "needs_background": "light"
     },
     "output_type": "display_data"
    }
   ],
   "source": [
    "df['Veteran Value'].plot.hist(grid=True)"
   ]
  },
  {
   "cell_type": "code",
   "execution_count": 375,
   "metadata": {},
   "outputs": [],
   "source": [
    "target = df['Veteran Value']\n",
    "\n",
    "def getClass(vv):\n",
    "    d25, d50, d75 = df['Veteran Value'].describe()['25%'], df['Veteran Value'].describe()['50%'], df['Veteran Value'].describe()['75%']\n",
    "    if vv < -5000:\n",
    "        return 0\n",
    "    elif -5000 <= vv < -1000:\n",
    "        return 1\n",
    "    elif -1000 <= vv < 0:\n",
    "        return 2\n",
    "    elif 0 <= vv < 1000:\n",
    "        return 3\n",
    "    elif 1000 <= vv < 3000:\n",
    "        return 4\n",
    "    elif 3000 <= vv:\n",
    "        return 5\n",
    "    \n",
    "df['VV Class'] = [getClass(vv) for vv in df['Veteran Value']]\n",
    "target_class = df['VV Class']"
   ]
  },
  {
   "cell_type": "code",
   "execution_count": 376,
   "metadata": {},
   "outputs": [
    {
     "data": {
      "text/plain": [
       "count     641.000000\n",
       "mean     -255.310744\n",
       "std      2189.684947\n",
       "min     -9730.639731\n",
       "25%         0.161765\n",
       "50%         4.359133\n",
       "75%        68.129032\n",
       "max      8566.433566\n",
       "Name: Veteran Value, dtype: float64"
      ]
     },
     "execution_count": 376,
     "metadata": {},
     "output_type": "execute_result"
    }
   ],
   "source": [
    "df['Veteran Value'].describe()"
   ]
  },
  {
   "cell_type": "code",
   "execution_count": 377,
   "metadata": {},
   "outputs": [],
   "source": [
    "df.drop(['Unnamed: 0','Age','Year','Player','Pos','Tm','Next WS','WS','Next Rtg','TmNetRtg','Veteran Value', 'VV Class'], axis=1, inplace=True)"
   ]
  },
  {
   "cell_type": "code",
   "execution_count": 378,
   "metadata": {},
   "outputs": [
    {
     "data": {
      "text/plain": [
       "Index(['G', 'MP', 'PER', 'TS%', '3PAr', 'FTr', 'ORB%', 'DRB%', 'AST%', 'STL%',\n",
       "       'BLK%', 'TOV%', 'USG%', 'OWS', 'DWS', 'WS/48', 'OBPM', 'DBPM', '3P%',\n",
       "       '2P%', 'FT%', 'Starters'],\n",
       "      dtype='object')"
      ]
     },
     "execution_count": 378,
     "metadata": {},
     "output_type": "execute_result"
    }
   ],
   "source": [
    "df.columns"
   ]
  },
  {
   "cell_type": "code",
   "execution_count": 379,
   "metadata": {},
   "outputs": [],
   "source": [
    "#try scaling values\n",
    "\n",
    "from sklearn.preprocessing import MinMaxScaler\n",
    "scaler = MinMaxScaler()\n",
    "scaled_data = scaler.fit_transform(df)\n"
   ]
  },
  {
   "cell_type": "code",
   "execution_count": 380,
   "metadata": {},
   "outputs": [],
   "source": [
    "from sklearn.model_selection import train_test_split\n",
    "xtrain, xtest, ytrain, ytest = train_test_split(scaled_data, target_class.values, random_state=42)"
   ]
  },
  {
   "cell_type": "markdown",
   "metadata": {},
   "source": [
    "### Logistic Regression Classifier"
   ]
  },
  {
   "cell_type": "code",
   "execution_count": 381,
   "metadata": {},
   "outputs": [
    {
     "data": {
      "text/plain": [
       "0.6832298136645962"
      ]
     },
     "execution_count": 381,
     "metadata": {},
     "output_type": "execute_result"
    }
   ],
   "source": [
    "from sklearn.linear_model import LogisticRegression\n",
    "from sklearn import metrics\n",
    "clf = LogisticRegression(tol=1e-4, max_iter=1000, random_state=0).fit(xtrain, ytrain)\n",
    "clf.predict(xtest)\n",
    "clf.predict_proba(xtest)\n",
    "clf.score(xtest,ytest)"
   ]
  },
  {
   "cell_type": "code",
   "execution_count": 382,
   "metadata": {},
   "outputs": [
    {
     "data": {
      "text/plain": [
       "0.6477007624870357"
      ]
     },
     "execution_count": 382,
     "metadata": {},
     "output_type": "execute_result"
    }
   ],
   "source": [
    "metrics.roc_auc_score(ytest,clf.predict_proba(xtest),multi_class='ovr')"
   ]
  },
  {
   "cell_type": "markdown",
   "metadata": {},
   "source": [
    "### KNN Classifier"
   ]
  },
  {
   "cell_type": "code",
   "execution_count": 383,
   "metadata": {},
   "outputs": [
    {
     "data": {
      "text/plain": [
       "KNeighborsClassifier(n_neighbors=15)"
      ]
     },
     "execution_count": 383,
     "metadata": {},
     "output_type": "execute_result"
    }
   ],
   "source": [
    "from sklearn.neighbors import KNeighborsClassifier\n",
    "from sklearn import metrics\n",
    "\n",
    "n_neighbors=15\n",
    "neigh = KNeighborsClassifier(n_neighbors)\n",
    "neigh.fit(xtrain, ytrain)"
   ]
  },
  {
   "cell_type": "code",
   "execution_count": 384,
   "metadata": {},
   "outputs": [
    {
     "data": {
      "text/plain": [
       "0.2342857142857143"
      ]
     },
     "execution_count": 384,
     "metadata": {},
     "output_type": "execute_result"
    }
   ],
   "source": [
    "neigh.predict_proba(xtest)\n",
    "neigh.score(xctest,yctest)"
   ]
  },
  {
   "cell_type": "code",
   "execution_count": 385,
   "metadata": {},
   "outputs": [
    {
     "data": {
      "text/plain": [
       "0.5831359587536598"
      ]
     },
     "execution_count": 385,
     "metadata": {},
     "output_type": "execute_result"
    }
   ],
   "source": [
    "metrics.roc_auc_score(ytest,neigh.predict_proba(xtest),multi_class='ovr')"
   ]
  },
  {
   "cell_type": "markdown",
   "metadata": {},
   "source": [
    "### Random Forests Classifier"
   ]
  },
  {
   "cell_type": "code",
   "execution_count": 386,
   "metadata": {},
   "outputs": [
    {
     "data": {
      "text/plain": [
       "0.6832298136645962"
      ]
     },
     "execution_count": 386,
     "metadata": {},
     "output_type": "execute_result"
    }
   ],
   "source": [
    "from sklearn.ensemble import RandomForestClassifier\n",
    "\n",
    "\n",
    "rf = RandomForestClassifier(n_estimators=250, max_depth=50, min_samples_leaf=10, min_samples_split = 10, max_features=10)\n",
    "rf.fit(xtrain, ytrain)\n",
    "rf.predict_proba(xtest)\n",
    "rf.score(xtest,ytest)"
   ]
  },
  {
   "cell_type": "code",
   "execution_count": 387,
   "metadata": {},
   "outputs": [
    {
     "data": {
      "text/plain": [
       "0.5708658292995925"
      ]
     },
     "execution_count": 387,
     "metadata": {},
     "output_type": "execute_result"
    }
   ],
   "source": [
    "metrics.roc_auc_score(ytest,rf.predict_proba(xtest),multi_class='ovr')"
   ]
  },
  {
   "cell_type": "markdown",
   "metadata": {},
   "source": [
    "### Boosted Classifier\n"
   ]
  },
  {
   "cell_type": "code",
   "execution_count": 388,
   "metadata": {},
   "outputs": [
    {
     "data": {
      "text/plain": [
       "0.6894409937888198"
      ]
     },
     "execution_count": 388,
     "metadata": {},
     "output_type": "execute_result"
    }
   ],
   "source": [
    "from sklearn.ensemble import AdaBoostClassifier\n",
    "from sklearn.tree import DecisionTreeClassifier\n",
    "\n",
    "abc = AdaBoostClassifier(base_estimator=DecisionTreeClassifier(min_samples_split=2**6, max_depth=10), \n",
    "                         n_estimators=225, learning_rate=0.5)\n",
    "abc.fit(xtrain, ytrain)\n",
    "abc.predict_proba(xtest)\n",
    "abc.score(xtest,ytest)"
   ]
  },
  {
   "cell_type": "code",
   "execution_count": 389,
   "metadata": {},
   "outputs": [
    {
     "data": {
      "text/plain": [
       "0.6211652474645523"
      ]
     },
     "execution_count": 389,
     "metadata": {},
     "output_type": "execute_result"
    }
   ],
   "source": [
    "metrics.roc_auc_score(ytest,abc.predict_proba(xtest),multi_class='ovr')"
   ]
  },
  {
   "cell_type": "markdown",
   "metadata": {},
   "source": [
    "### Neural Network"
   ]
  },
  {
   "cell_type": "code",
   "execution_count": 390,
   "metadata": {},
   "outputs": [
    {
     "name": "stdout",
     "output_type": "stream",
     "text": [
      "Iteration 1, loss = 1.97844663\n",
      "Iteration 2, loss = 1.69998579\n",
      "Iteration 3, loss = 1.48990651\n",
      "Iteration 4, loss = 1.30260975\n",
      "Iteration 5, loss = 1.20831273\n",
      "Iteration 6, loss = 1.22209619\n",
      "Iteration 7, loss = 1.26511413\n",
      "Iteration 8, loss = 1.26496531\n",
      "Iteration 9, loss = 1.22570686\n",
      "Iteration 10, loss = 1.19253641\n",
      "Iteration 11, loss = 1.17470989\n",
      "Iteration 12, loss = 1.17361886\n",
      "Iteration 13, loss = 1.17540912\n",
      "Iteration 14, loss = 1.16899415\n",
      "Iteration 15, loss = 1.15781411\n",
      "Iteration 16, loss = 1.14840221\n",
      "Iteration 17, loss = 1.14346877\n",
      "Iteration 18, loss = 1.14496726\n",
      "Iteration 19, loss = 1.14433392\n",
      "Iteration 20, loss = 1.14122480\n",
      "Iteration 21, loss = 1.13554836\n",
      "Iteration 22, loss = 1.13207471\n",
      "Iteration 23, loss = 1.13166579\n",
      "Iteration 24, loss = 1.13027092\n",
      "Iteration 25, loss = 1.12722609\n",
      "Iteration 26, loss = 1.12381481\n",
      "Iteration 27, loss = 1.12137932\n",
      "Iteration 28, loss = 1.12012090\n",
      "Iteration 29, loss = 1.11826549\n",
      "Iteration 30, loss = 1.11613748\n",
      "Iteration 31, loss = 1.11455763\n",
      "Iteration 32, loss = 1.11285015\n",
      "Iteration 33, loss = 1.11071648\n",
      "Iteration 34, loss = 1.10870334\n",
      "Iteration 35, loss = 1.10761311\n",
      "Iteration 36, loss = 1.10561356\n",
      "Iteration 37, loss = 1.10333288\n",
      "Iteration 38, loss = 1.10296247\n",
      "Iteration 39, loss = 1.10062501\n",
      "Iteration 40, loss = 1.09974841\n",
      "Iteration 41, loss = 1.09716050\n",
      "Iteration 42, loss = 1.09553597\n",
      "Iteration 43, loss = 1.09443772\n",
      "Iteration 44, loss = 1.09218319\n",
      "Iteration 45, loss = 1.09051722\n",
      "Iteration 46, loss = 1.08890790\n",
      "Iteration 47, loss = 1.08739203\n",
      "Iteration 48, loss = 1.08638657\n",
      "Iteration 49, loss = 1.08474234\n",
      "Iteration 50, loss = 1.08236451\n",
      "Iteration 51, loss = 1.08111191\n",
      "Iteration 52, loss = 1.07895532\n",
      "Iteration 53, loss = 1.07764069\n",
      "Iteration 54, loss = 1.07619223\n",
      "Iteration 55, loss = 1.07455958\n",
      "Iteration 56, loss = 1.07296736\n",
      "Iteration 57, loss = 1.07123159\n",
      "Iteration 58, loss = 1.06897629\n",
      "Iteration 59, loss = 1.06749113\n",
      "Iteration 60, loss = 1.06562654\n",
      "Iteration 61, loss = 1.06417894\n",
      "Iteration 62, loss = 1.06271408\n",
      "Iteration 63, loss = 1.06118061\n",
      "Iteration 64, loss = 1.05757912\n",
      "Iteration 65, loss = 1.05732869\n",
      "Iteration 66, loss = 1.05554843\n",
      "Iteration 67, loss = 1.05300305\n",
      "Iteration 68, loss = 1.05129032\n",
      "Iteration 69, loss = 1.04891417\n",
      "Iteration 70, loss = 1.04717488\n",
      "Iteration 71, loss = 1.04523863\n",
      "Iteration 72, loss = 1.04339053\n",
      "Iteration 73, loss = 1.04196069\n",
      "Iteration 74, loss = 1.03992902\n",
      "Iteration 75, loss = 1.03873600\n",
      "Iteration 76, loss = 1.03681576\n",
      "Iteration 77, loss = 1.03352744\n",
      "Iteration 78, loss = 1.03217546\n",
      "Iteration 79, loss = 1.03040657\n",
      "Iteration 80, loss = 1.02736540\n",
      "Iteration 81, loss = 1.02673240\n",
      "Iteration 82, loss = 1.02707149\n",
      "Iteration 83, loss = 1.02250540\n",
      "Iteration 84, loss = 1.02030912\n",
      "Iteration 85, loss = 1.01850098\n",
      "Iteration 86, loss = 1.01648852\n",
      "Iteration 87, loss = 1.01504774\n",
      "Iteration 88, loss = 1.01259563\n",
      "Iteration 89, loss = 1.01047159\n",
      "Iteration 90, loss = 1.00882488\n",
      "Iteration 91, loss = 1.00702987\n",
      "Iteration 92, loss = 1.00494993\n",
      "Iteration 93, loss = 1.00249144\n",
      "Iteration 94, loss = 1.00119100\n",
      "Iteration 95, loss = 0.99772018\n",
      "Iteration 96, loss = 0.99610064\n",
      "Iteration 97, loss = 0.99443178\n",
      "Iteration 98, loss = 0.99602399\n",
      "Iteration 99, loss = 0.98915569\n",
      "Iteration 100, loss = 0.98979629\n"
     ]
    },
    {
     "name": "stderr",
     "output_type": "stream",
     "text": [
      "/opt/anaconda3/envs/py38/lib/python3.8/site-packages/sklearn/neural_network/_multilayer_perceptron.py:614: ConvergenceWarning: Stochastic Optimizer: Maximum iterations (100) reached and the optimization hasn't converged yet.\n",
      "  warnings.warn(\n"
     ]
    },
    {
     "data": {
      "text/plain": [
       "0.6832298136645962"
      ]
     },
     "execution_count": 390,
     "metadata": {},
     "output_type": "execute_result"
    }
   ],
   "source": [
    "from sklearn.neural_network import MLPClassifier\n",
    "\n",
    "mlpc = MLPClassifier(hidden_layer_sizes=(1000,100,10),activation='relu',learning_rate_init=0.001,batch_size=256, verbose=True,max_iter=100)\n",
    "mlpc.fit(xtrain, ytrain)\n",
    "mlpc.predict_proba(xtest)\n",
    "mlpc.score(xtest,ytest)\n"
   ]
  },
  {
   "cell_type": "code",
   "execution_count": 391,
   "metadata": {},
   "outputs": [
    {
     "data": {
      "text/plain": [
       "0.6285038766896752"
      ]
     },
     "execution_count": 391,
     "metadata": {},
     "output_type": "execute_result"
    }
   ],
   "source": [
    "metrics.roc_auc_score(ytest,mlpc.predict_proba(xtest),multi_class='ovr')"
   ]
  },
  {
   "cell_type": "markdown",
   "metadata": {},
   "source": [
    "### Voting Classifier"
   ]
  },
  {
   "cell_type": "code",
   "execution_count": 392,
   "metadata": {},
   "outputs": [
    {
     "name": "stdout",
     "output_type": "stream",
     "text": [
      "[Voting] ...................... (1 of 4) Processing RFC, total=   0.9s\n",
      "[Voting] ...................... (2 of 4) Processing LRC, total=   0.0s\n",
      "[Voting] ...................... (3 of 4) Processing ABC, total=   1.3s\n",
      "Iteration 1, loss = 2.05586126\n",
      "Iteration 2, loss = 1.81809291\n",
      "Iteration 3, loss = 1.64218328\n",
      "Iteration 4, loss = 1.43656200\n",
      "Iteration 5, loss = 1.28042558\n",
      "Iteration 6, loss = 1.26832691\n",
      "Iteration 7, loss = 1.30948401\n",
      "Iteration 8, loss = 1.30132534\n",
      "Iteration 9, loss = 1.25633385\n",
      "Iteration 10, loss = 1.22781226\n",
      "Iteration 11, loss = 1.22793307\n",
      "Iteration 12, loss = 1.22672505\n",
      "Iteration 13, loss = 1.22227713\n",
      "Iteration 14, loss = 1.21337990\n",
      "Iteration 15, loss = 1.20458072\n",
      "Iteration 16, loss = 1.20030642\n",
      "Iteration 17, loss = 1.19767415\n",
      "Iteration 18, loss = 1.19611518\n",
      "Iteration 19, loss = 1.19264351\n",
      "Iteration 20, loss = 1.18777023\n",
      "Iteration 21, loss = 1.18265650\n",
      "Iteration 22, loss = 1.17898209\n",
      "Iteration 23, loss = 1.17618264\n",
      "Iteration 24, loss = 1.17307489\n",
      "Iteration 25, loss = 1.16966126\n",
      "Iteration 26, loss = 1.16626271\n",
      "Iteration 27, loss = 1.16317458\n",
      "Iteration 28, loss = 1.15974797\n",
      "Iteration 29, loss = 1.15648856\n",
      "Iteration 30, loss = 1.15365511\n",
      "Iteration 31, loss = 1.15058925\n",
      "Iteration 32, loss = 1.14787509\n",
      "Iteration 33, loss = 1.14502307\n",
      "Iteration 34, loss = 1.14222530\n",
      "Iteration 35, loss = 1.13943529\n",
      "Iteration 36, loss = 1.13680889\n",
      "Iteration 37, loss = 1.13391962\n",
      "Iteration 38, loss = 1.13218544\n",
      "Iteration 39, loss = 1.12878769\n",
      "Iteration 40, loss = 1.12605664\n",
      "Iteration 41, loss = 1.12353437\n",
      "Iteration 42, loss = 1.12187998\n",
      "Iteration 43, loss = 1.11878817\n",
      "Iteration 44, loss = 1.11589225\n",
      "Iteration 45, loss = 1.11345348\n",
      "Iteration 46, loss = 1.11095715\n",
      "Iteration 47, loss = 1.10849651\n",
      "Iteration 48, loss = 1.10637067\n",
      "Iteration 49, loss = 1.10351496\n",
      "Iteration 50, loss = 1.10109311\n",
      "Iteration 51, loss = 1.09879086\n",
      "Iteration 52, loss = 1.09634855\n",
      "Iteration 53, loss = 1.09482333\n",
      "Iteration 54, loss = 1.09171649\n",
      "Iteration 55, loss = 1.09122591\n",
      "Iteration 56, loss = 1.08748873\n",
      "Iteration 57, loss = 1.08591166\n",
      "Iteration 58, loss = 1.08311556\n",
      "Iteration 59, loss = 1.08172240\n",
      "Iteration 60, loss = 1.07913885\n",
      "Iteration 61, loss = 1.07654585\n",
      "Iteration 62, loss = 1.07452941\n",
      "Iteration 63, loss = 1.07249367\n",
      "Iteration 64, loss = 1.06999793\n",
      "Iteration 65, loss = 1.06935155\n",
      "Iteration 66, loss = 1.06658875\n",
      "Iteration 67, loss = 1.06428973\n",
      "Iteration 68, loss = 1.06155246\n",
      "Iteration 69, loss = 1.05947521\n",
      "Iteration 70, loss = 1.05741820\n",
      "Iteration 71, loss = 1.05582674\n",
      "Iteration 72, loss = 1.05356846\n",
      "Iteration 73, loss = 1.05120873\n",
      "Iteration 74, loss = 1.04926047\n",
      "Iteration 75, loss = 1.04772518\n",
      "Iteration 76, loss = 1.04653788\n",
      "Iteration 77, loss = 1.04331006\n",
      "Iteration 78, loss = 1.04268481\n",
      "Iteration 79, loss = 1.03935338\n",
      "Iteration 80, loss = 1.03700378\n",
      "Iteration 81, loss = 1.03545652\n",
      "Iteration 82, loss = 1.03309855\n",
      "Iteration 83, loss = 1.03125305\n",
      "Iteration 84, loss = 1.02898952\n",
      "Iteration 85, loss = 1.02625002\n",
      "Iteration 86, loss = 1.02484979\n",
      "Iteration 87, loss = 1.02243557\n",
      "Iteration 88, loss = 1.01992163\n",
      "Iteration 89, loss = 1.01872929\n",
      "Iteration 90, loss = 1.01568663\n",
      "Iteration 91, loss = 1.01329418\n",
      "Iteration 92, loss = 1.01184990\n",
      "Iteration 93, loss = 1.00981014\n",
      "Iteration 94, loss = 1.00768754\n",
      "Iteration 95, loss = 1.00417029\n",
      "Iteration 96, loss = 1.00333172\n",
      "Iteration 97, loss = 0.99997022\n",
      "Iteration 98, loss = 0.99795512\n",
      "Iteration 99, loss = 0.99623419\n",
      "Iteration 100, loss = 0.99325871\n",
      "[Voting] ...................... (4 of 4) Processing MLP, total=   3.1s\n"
     ]
    },
    {
     "name": "stderr",
     "output_type": "stream",
     "text": [
      "/opt/anaconda3/envs/py38/lib/python3.8/site-packages/sklearn/neural_network/_multilayer_perceptron.py:614: ConvergenceWarning: Stochastic Optimizer: Maximum iterations (100) reached and the optimization hasn't converged yet.\n",
      "  warnings.warn(\n"
     ]
    },
    {
     "data": {
      "text/plain": [
       "0.6832298136645962"
      ]
     },
     "execution_count": 392,
     "metadata": {},
     "output_type": "execute_result"
    }
   ],
   "source": [
    "from sklearn.ensemble import VotingClassifier \n",
    "from sklearn.ensemble import StackingClassifier\n",
    "\n",
    "estimator = [] \n",
    "estimator.append(('RFC',rf))\n",
    "estimator.append(('LRC',clf))\n",
    "estimator.append(('ABC',abc))\n",
    "estimator.append(('MLP',mlpc))\n",
    "\n",
    "\n",
    "vot_soft = VotingClassifier(estimators = estimator, voting='soft', verbose=True) \n",
    "vot_soft.fit(xtrain, ytrain)\n",
    "vot_soft.predict_proba(xtest)\n",
    "vot_soft.score(xtest,ytest)"
   ]
  },
  {
   "cell_type": "code",
   "execution_count": 393,
   "metadata": {},
   "outputs": [
    {
     "data": {
      "text/plain": [
       "0.6542899041315925"
      ]
     },
     "execution_count": 393,
     "metadata": {},
     "output_type": "execute_result"
    }
   ],
   "source": [
    "metrics.roc_auc_score(ytest,vot_soft.predict_proba(xtest),multi_class='ovr')"
   ]
  },
  {
   "cell_type": "code",
   "execution_count": null,
   "metadata": {},
   "outputs": [],
   "source": []
  }
 ],
 "metadata": {
  "kernelspec": {
   "display_name": "Python 3",
   "language": "python",
   "name": "python3"
  },
  "language_info": {
   "codemirror_mode": {
    "name": "ipython",
    "version": 3
   },
   "file_extension": ".py",
   "mimetype": "text/x-python",
   "name": "python",
   "nbconvert_exporter": "python",
   "pygments_lexer": "ipython3",
   "version": "3.8.3"
  }
 },
 "nbformat": 4,
 "nbformat_minor": 4
}
